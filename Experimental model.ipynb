{
 "cells": [
  {
   "cell_type": "markdown",
   "metadata": {},
   "source": [
    "# MICROSIMULATION USING MESA"
   ]
  },
  {
   "cell_type": "code",
   "execution_count": 94,
   "metadata": {
    "collapsed": true
   },
   "outputs": [],
   "source": [
    "import numpy as np\n",
    "import pandas as pd\n",
    "import matplotlib.pyplot as plt\n",
    "plt.style.use('seaborn-notebook')\n",
    "# plt.style.use('ggplot')\n",
    "#plt.style.use('fivethirtyeight')\n",
    "import seaborn as sns\n",
    "import math\n",
    "import gc\n",
    "from mesa import Agent, Model\n",
    "from mesa.time import RandomActivation\n",
    "from mesa.time import SimultaneousActivation\n",
    "from mesa.datacollection import DataCollector\n",
    "import random\n",
    "from ipywidgets import widgets, interact, interactive\n",
    "from IPython.display import display\n",
    "\n",
    "%matplotlib inline"
   ]
  },
  {
   "cell_type": "markdown",
   "metadata": {},
   "source": [
    "### Model inputs"
   ]
  },
  {
   "cell_type": "markdown",
   "metadata": {
    "collapsed": false
   },
   "source": [
    "In the model health states are declared as:\n",
    "- a0: *susceptible to both breast - and ovarian cancer*\n",
    "- a1: *susceptible to ovarian cancer only (assumed not susceptible to a second (relative) or third (index) round of bc*\n",
    "- a2: *susceptible to breast cancer only (survivor of ovarian cancer)*\n",
    "- b0: *breast cancer diagnosis*\n",
    "- b1: *breast cancer stage 1*\n",
    "- b2: *breast cancer stage 2*\n",
    "- b3: *breast cancer stage 3*\n",
    "- b4: *breast cancer stage 4*\n",
    "- c0: *ovarian cancer diagnosis*\n",
    "- c1: *ovarian cancer local*\n",
    "- c2: *ovarian cancer regional*\n",
    "- c3: *ovarian cancer distant*\n",
    "- d0: *prophylactic masectomy and oophorectomy*\n",
    "- d1: *prophylactic masectomy only*\n",
    "- d2: *prophylactic oophorectomy only*\n",
    "- e0: *no increased risk for cancer in respective organs (following successful d0)*\n",
    "- f0: *dead from any cause ('normal' mortality + exces mortality due to organ specific cancer)*\n",
    "- f1: *dead from breast cancer*\n",
    "- f2: *dead from ovarian cancer*"
   ]
  },
  {
   "cell_type": "markdown",
   "metadata": {},
   "source": [
    "There are two main components to a MSM: a natural history model and an intervention model.\n",
    "\n",
    "For this particular study the natural history model must also be split into two:\n",
    "\n",
    "- one showing the expected costs and qalys for someone without a hereditary mutation\n",
    "- one showing the expected costs and qualys for someone with a hereditary mutation increasing the RR for cancer in the organs\n",
    "\n",
    "Lastly, we also want to explicitly view this problem from the hereditary angle: testing an index patient has tangible consequences for relatives.\n",
    "\n"
   ]
  },
  {
   "cell_type": "code",
   "execution_count": 2,
   "metadata": {
    "collapsed": false
   },
   "outputs": [
    {
     "name": "stderr",
     "output_type": "stream",
     "text": [
      "C:\\Users\\larsasp\\AppData\\Local\\Continuum\\Anaconda3\\lib\\site-packages\\pandas\\core\\common.py:1920: ComplexWarning: Casting complex values to real discards the imaginary part\n",
      "  return arr.astype(dtype)\n"
     ]
    }
   ],
   "source": [
    "from Transitions import *"
   ]
  },
  {
   "cell_type": "markdown",
   "metadata": {},
   "source": [
    "### 1.0 Natural history model w/o hereditary mutation"
   ]
  },
  {
   "cell_type": "code",
   "execution_count": 3,
   "metadata": {
    "collapsed": true
   },
   "outputs": [],
   "source": [
    "from Controls import initial_age\n",
    "initial_age"
   ]
  },
  {
   "cell_type": "code",
   "execution_count": 4,
   "metadata": {
    "collapsed": false
   },
   "outputs": [],
   "source": [
    "from mesa import Agent, Model\n",
    "\n",
    "class Person(Agent):\n",
    "    \"\"\"An agent\"\"\"\n",
    "    def __init__(self, unique_id, model):\n",
    "        super().__init__(unique_id, model)\n",
    "        self.age = initial_age.value\n",
    "        self.state_a0 = 1\n",
    "        self.state_a1 = 0\n",
    "        self.state_a2 = 0\n",
    "#        self.state_a2r = 0\n",
    "        self.state_b0 = 0\n",
    "        self.state_b1 = 0\n",
    "        self.state_b2 = 0\n",
    "        self.state_b3 = 0\n",
    "        self.state_b4 = 0\n",
    "        self.state_c0 = 0\n",
    "        self.state_c1 = 0\n",
    "        self.state_c2 = 0\n",
    "        self.state_c3 = 0\n",
    "        self.state_d0 = 0\n",
    "        self.state_d1 = 0\n",
    "        self.state_d2 = 0\n",
    "        self.state_e0 = 0\n",
    "        self.state_f0 = 0\n",
    "        self.state_f1 = 0\n",
    "        self.state_f2 = 0\n",
    "        self.time_in_b1 = 0\n",
    "        self.time_in_b2 = 0\n",
    "        self.time_in_b3 = 0\n",
    "        self.time_in_b4 = 0\n",
    "        self.time_in_c1 = 0\n",
    "        self.time_in_c2 = 0\n",
    "        self.time_in_c3 = 0\n",
    "        self.cycle = 0\n",
    "        \n",
    "    def step(self):\n",
    "        \"\"\"\n",
    "        state a0 is the starting state for all agents in self.cycle = 0\n",
    "        \"\"\"\n",
    "        if self.state_a0 == 1:\n",
    "            if from_a0(age = self.age)[0] == 1:\n",
    "                self.state_a0 += 0\n",
    "                self.age += 1\n",
    "            elif from_a0(age = self.age)[1] == 1:\n",
    "                self.state_b0 += 1\n",
    "                self.state_a0 -= 1\n",
    "                self.age += 1\n",
    "            elif from_a0(age = self.age)[2] == 1:\n",
    "                self.state_c0 += 1\n",
    "                self.state_a0 -= 1\n",
    "                self.age += 1\n",
    "            elif from_a0(age = self.age)[3] == 1:\n",
    "                self.state_d0 += 1\n",
    "                self.state_a0 -= 1\n",
    "                self.age += 1\n",
    "            elif from_a0(age = self.age)[4] == 1:\n",
    "                self.state_d1 += 1\n",
    "                self.state_a0 -= 1\n",
    "                self.age += 1\n",
    "            elif from_a0(age = self.age)[5] == 1:\n",
    "                self.state_d2 += 1\n",
    "                self.state_a0 -= 1\n",
    "                self.age += 1\n",
    "            else:\n",
    "                self.state_f0 += 1\n",
    "                self.state_a0 -= 1\n",
    "                    \n",
    "            if self.cycle > 0:\n",
    "                \n",
    "                if self.state_a1 == 1:\n",
    "                    if from_a1(age = self.age)[0] == 1:\n",
    "                        self.state_a1 += 0\n",
    "                        self.age += 1\n",
    "                    elif from_a1(age = self.age)[1] == 1:\n",
    "                        self.state_c0 += 1\n",
    "                        self.state_a1 -= 1\n",
    "                        self.age += 1\n",
    "                    elif from_a1(age = self.age)[2] == 2:\n",
    "                        self.state_d2 += 1\n",
    "                        self.state_a1 -= 1\n",
    "                        self.age += 1\n",
    "                    else:\n",
    "                        self.state_f0 += 1\n",
    "                        self.state_a1 -= 1\n",
    "                        \n",
    "                if self.state_a2 == 1:\n",
    "                    if from_a2(age = self.age)[0] == 1:\n",
    "                        self.state_a2 += 0\n",
    "                        self.age += 1\n",
    "                    if from_a2(age = self.age)[1] == 1:\n",
    "                        self.state_b0 += 1\n",
    "                        self.state_a2 -= 1\n",
    "                        self.age += 1\n",
    "                    if from_a2(age = self.age)[3] == 1:\n",
    "                        self.state_d1 += 1\n",
    "                        seøf.state_a2 -= 1\n",
    "                        self.age += 1\n",
    "                    else:\n",
    "                        self.state_f0 += 1\n",
    "                        self.state_a2 -= 1\n",
    "                        \n",
    "#                if self.state_a2r == 1:\n",
    "#                    if from_a2r(age = self.age)[0] == 1:\n",
    "#                        self.state_a2 += 0\n",
    "#                        self.age += 1\n",
    "#                    if from_a2r(age = self.age)[1] == 1:\n",
    "#                        self.state_b0 += 1\n",
    "#                        self.state_a2 -= 1\n",
    "#                        self.age += 1\n",
    "#                    if from_a2r(age = self.age)[3] == 1:\n",
    "#                        self.state_d1 += 1\n",
    "#                        seøf.state_a2 -= 1\n",
    "#                        self.age += 1\n",
    "#                    else:\n",
    "#                        self.state_f0 += 1\n",
    "#                        self.state_a2 -= 1\n",
    "\n",
    "                if self.state_b0 == 1:\n",
    "                    \"\"\"\n",
    "                    Do NOT append age variable, this is a tunnel state\n",
    "                    \"\"\"\n",
    "                    if from_b0(age = self.age)[0] == 1:\n",
    "                        self.state_b1 += 1\n",
    "                        self.state_b0 -= 1\n",
    "                    if from_b0(age = self.age)[1] == 1:\n",
    "                        self.state_b2 += 1\n",
    "                        self.state_b0 -= 1\n",
    "                    if from_b0(age = self.age)[2] == 1:\n",
    "                        self.state_b3 += 1\n",
    "                        self.state_b0 -= 1\n",
    "                    if from_b0(age = self.age)[3] == 1:\n",
    "                        self.state_b4 += 1\n",
    "                        self.state_b0 -= 1\n",
    "                        \n",
    "                if self.state_b1 == 1:\n",
    "                    if from_b1(self.age, self.time_in_b1)[1] == 1:\n",
    "                        self.state_f1 += 1\n",
    "                        self.state_b1 -= 1   \n",
    "                    elif from_b1(self.age, self.time_in_b1)[0] == 1:\n",
    "                        self.state_b1 += 0\n",
    "                        self.age += 1\n",
    "                        self.time_in_b1 += 1\n",
    "                        if self.time_in_b1==10:\n",
    "                            self.state_a1 += 1\n",
    "                            self.state_b1 -= 1\n",
    "                            self.age += 1\n",
    "                            self.time_in_b1 = 0\n",
    "\n",
    "\n",
    "                if self.state_b2 == 1:\n",
    "                    if from_b2(self.age, self.time_in_b2)[1] == 1:\n",
    "                        self.state_f1 += 1\n",
    "                        self.state_b2 -= 1          \n",
    "                    elif from_b2(self.age, self.time_in_b2)[0] == 1:\n",
    "                        self.state_b2 += 0\n",
    "                        self.age += 1\n",
    "                        self.time_in_b2 += 1\n",
    "                        if self.time_in_b2==10:\n",
    "                            self.state_a1+=1\n",
    "                            self.state_b2-=1\n",
    "                            self.age += 1\n",
    "                            self.time_in_b2 = 0\n",
    "\n",
    "                        \n",
    "                if self.state_b3 == 1:\n",
    "                    if from_b3(self.age, self.time_in_b3)[1] == 1:\n",
    "                        self.state_f1 += 1\n",
    "                        self.state_b3 -= 1              \n",
    "                    elif from_b3(self.age, self.time_in_b3)[0] == 1:\n",
    "                        self.state_b3 += 0\n",
    "                        self.age += 1\n",
    "                        self.time_in_b3 += 1\n",
    "                        if self.time_in_b3 == 10:\n",
    "                            self.state_a1 += 1\n",
    "                            self.state_b3 -= 1\n",
    "                            self.age += 1\n",
    "                            self.time_in_b3 = 0\n",
    "\n",
    "                        \n",
    "                if self.state_b4 == 1:\n",
    "                    if from_b4(self.age, self.time_in_b4)[1] == 1:\n",
    "                        self.state_f1 += 1\n",
    "                        self.state_b4 -= 1   \n",
    "                    elif from_b4(self.age, self.time_in_b4)[0] == 1:\n",
    "                        self.state_b4 += 0\n",
    "                        self.age += 1\n",
    "                        self.time_in_b4 += 1\n",
    "                        if self.time_in_b4 == 10:\n",
    "                            self.state_a1 += 1\n",
    "                            self.state_b4 -= 1\n",
    "                            self.age += 1\n",
    "                            self.time_in_b4 = 0\n",
    "        \n",
    "                \n",
    "                if self.state_c0 == 1:\n",
    "                    \"\"\"\n",
    "                    Do NOT append age variable, this is a tunnel state\n",
    "                    \"\"\"\n",
    "                    if from_c0()[0] == 1:\n",
    "                        self.state_c1 += 1\n",
    "                        self.state_c0 -= 1\n",
    "                    if from_c0()[1] == 1:\n",
    "                        self.state_c2 += 1\n",
    "                        self.state_c0 -= 1\n",
    "                    if from_c0()[2] == 1:\n",
    "                        self.state_c3 += 1\n",
    "                        self.state_c0 -= 1\n",
    "                        \n",
    "                if self.state_c1 == 1:\n",
    "                    if from_c1(age = self.age, time_in_c1 = self.time_in_c1)[0] == 1:\n",
    "                        self.state_c1 +=0\n",
    "                        self.age += 1\n",
    "                        self.time_in_c1 += 1\n",
    "                        if self.time_in_c1 == 10:\n",
    "                            \"\"\"\n",
    "                            With 10 cycles in state_c1, agent transfers to state_a2\n",
    "                            \"\"\"\n",
    "                            self.state_a2 += 1\n",
    "                            self.state_c1 -= 1\n",
    "                            self.age += 1\n",
    "                            self.time_in_c1 = 0\n",
    "                    if from_c1(age = self.age, time_in_c1 = self.time_in_c1)[1] == 1:\n",
    "                        self.state_f2 += 1\n",
    "                        self.state_c1 -= 1\n",
    "                        \n",
    "                if self.state_c2 == 1:\n",
    "                    if from_c2(age = self.age, time_in_c2 = self.time_in_c2)[0] == 1:\n",
    "                        self.state_c2 +=0\n",
    "                        self.age += 1\n",
    "                        self.time_in_c2 += 1\n",
    "                        if self.time_in_c2 == 10:\n",
    "                            \"\"\"\n",
    "                            With 10 cycles in state_c2, agent transfers to state_a2\n",
    "                            \"\"\"\n",
    "                            self.state_a2 += 1\n",
    "                            self.state_c2 -= 1\n",
    "                            self.age += 1\n",
    "                            self.time_in_c2 = 0\n",
    "                    if from_c2(age = self.age, time_in_c2 = self.time_in_c2)[1] == 1:\n",
    "                        self.state_f2 += 1\n",
    "                        self.state_c2 -= 1\n",
    "                \n",
    "                if self.state_c3 == 1:\n",
    "                    if from_c3(age = self.age, time_in_c3 = self.time_in_c3)[0] == 1:\n",
    "                        self.state_c3 +=0\n",
    "                        self.age += 1\n",
    "                        self.time_in_c3 += 1\n",
    "                        if self.time_in_c3 == 10:\n",
    "                            \"\"\"\n",
    "                            With 10 cycles in state_c3, agent transfers to state_a2\n",
    "                            \"\"\"\n",
    "                            self.state_a2 += 1\n",
    "                            self.state_c3 -= 1\n",
    "                            self.age += 1\n",
    "                            self.time_in_c3 = 0\n",
    "                    if from_c3(age = self.age, time_in_c3 = self.time_in_c3)[1] == 1:\n",
    "                        self.state_f2 += 1\n",
    "                        self.state_c3 -= 1\n",
    "                        \n",
    "                if self.state_d0 == 1:\n",
    "                    if from_d0(age = self.age) == 1:\n",
    "                        self.state_d0 += 0\n",
    "                        self.age += 1\n",
    "                    else:\n",
    "                        self.state_f0 += 1\n",
    "                        self.state_d0 -= 1\n",
    "                        \n",
    "                if self.state_d1 == 1:\n",
    "                    if from_d1(age = self.age) == 1:\n",
    "                        self.state_d1 += 0\n",
    "                        self.age += 1\n",
    "                    else:\n",
    "                        self.state_f0 += 1\n",
    "                        self.state_d1 -= 1        \n",
    "                        \n",
    "                if self.state_d2 == 1:\n",
    "                    if from_d2(age = self.age) == 1:\n",
    "                        self.state_d2 += 0\n",
    "                        self.age += 1\n",
    "                    else:\n",
    "                        self.state_f0 += 1\n",
    "                        self.state_d2 -= 1\n",
    "                        \n",
    "                if self.state_e0 == 1:\n",
    "                    if from_e0(age = self.age) == 1:\n",
    "                        self.state_e0 += 0\n",
    "                        self.age += 1\n",
    "                    else:\n",
    "                        self.state_f0 += 1\n",
    "                        self.state_e0 -= 1\n",
    "                        \n",
    "        self.cycle += 1"
   ]
  },
  {
   "cell_type": "code",
   "execution_count": 5,
   "metadata": {
    "collapsed": false
   },
   "outputs": [],
   "source": [
    "def trace_a0(model):\n",
    "    agent_a0 = [agent.state_a0 for agent in model.schedule.agents]\n",
    "    x = sum(agent_a0)\n",
    "    N = model.num_agents\n",
    "    B = x / N\n",
    "    return B\n",
    "\n",
    "def trace_a1(model):\n",
    "    agent_a1 = [agent.state_a1 for agent in model.schedule.agents]\n",
    "    x = sum(agent_a1)\n",
    "    N = model.num_agents\n",
    "    B = x / N\n",
    "    return B\n",
    "\n",
    "def trace_a2(model):\n",
    "    agent_a2 = [agent.state_a2 for agent in model.schedule.agents]\n",
    "    x = sum(agent_a2)\n",
    "    N = model.num_agents\n",
    "    B = x / N\n",
    "    return B\n",
    "\n",
    "#def trace_A2r(model):\n",
    "#    agent_a2r = [agent.state_A2r for agent in model.schedule.agents]\n",
    "#    x = sum(agent_a2r)\n",
    "#    N = model.num_agents\n",
    "#    B = x / N\n",
    "#    return B\n",
    "\n",
    "def trace_b1(model):\n",
    "    agent_b1 = [agent.state_b1 for agent in model.schedule.agents]\n",
    "    x = sum(agent_b1)\n",
    "    N = model.num_agents\n",
    "    B = x / N\n",
    "    return B\n",
    "\n",
    "def trace_b2(model):\n",
    "    agent_b2 = [agent.state_b2 for agent in model.schedule.agents]\n",
    "    x = sum(agent_b2)\n",
    "    N = model.num_agents\n",
    "    B = x / N\n",
    "    return B\n",
    "\n",
    "def trace_b3(model):\n",
    "    agent_b3 = [agent.state_b3 for agent in model.schedule.agents]\n",
    "    x = sum(agent_b3)\n",
    "    N = model.num_agents\n",
    "    B = x / N\n",
    "    return B\n",
    "\n",
    "def trace_b4(model):\n",
    "    agent_b4 = [agent.state_b4 for agent in model.schedule.agents]\n",
    "    x = sum(agent_b4)\n",
    "    N = model.num_agents\n",
    "    B = x / N\n",
    "    return B\n",
    "\n",
    "def trace_bc_allstage(model):\n",
    "    agent_bca = ([agent.state_b4 for agent in model.schedule.agents] \n",
    "                 +[agent.state_b2 for agent in model.schedule.agents]\n",
    "                 +[agent.state_b3 for agent in model.schedule.agents]\n",
    "                 +[agent.state_b4 for agent in model.schedule.agents])\n",
    "    x = sum(agent_bca)\n",
    "    N = model.num_agents\n",
    "    B = x / N\n",
    "    return B\n",
    "\n",
    "def trace_c1(model):\n",
    "    agent_c1 = [agent.state_c1 for agent in model.schedule.agents]\n",
    "    x = sum(agent_c1)\n",
    "    N = model.num_agents\n",
    "    B = x / N\n",
    "    return B\n",
    "\n",
    "def trace_c2(model):\n",
    "    agent_c2 = [agent.state_c2 for agent in model.schedule.agents]\n",
    "    x = sum(agent_c2)\n",
    "    N = model.num_agents\n",
    "    B = x / N\n",
    "    return B\n",
    "\n",
    "def trace_c3(model):\n",
    "    agent_c3 = [agent.state_c3 for agent in model.schedule.agents]\n",
    "    x = sum(agent_c3)\n",
    "    N = model.num_agents\n",
    "    B = x / N\n",
    "    return B\n",
    "\n",
    "def trace_oc_allstage(model):\n",
    "    agent_oca = ([agent.state_c1 for agent in model.schedule.agents]\n",
    "                 +[agent.state_c2 for agent in model.schedule.agents]\n",
    "                 +[agent.state_c3 for agent in model.schedule.agents])\n",
    "    x = sum(agent_oca)\n",
    "    N = model.num_agents\n",
    "    B = x / N\n",
    "    return B\n",
    "\n",
    "def trace_e0(model):\n",
    "    agent_e0 = [agent.state_e0 for agent in model.schedule.agents]\n",
    "    x = sum(agent_e0)\n",
    "    N = model.num_agents\n",
    "    B = x / N\n",
    "    return B\n",
    "\n",
    "def trace_f0(model):\n",
    "    agent_f0 = [agent.state_f0 for agent in model.schedule.agents]\n",
    "    x = sum(agent_f0)\n",
    "    N = model.num_agents\n",
    "    B = x / N\n",
    "    return B\n",
    "\n",
    "def trace_f1(model):\n",
    "    agent_f1 = [agent.state_f1 for agent in model.schedule.agents]\n",
    "    x = sum(agent_f1)\n",
    "    N = model.num_agents\n",
    "    B = x / N\n",
    "    return B\n",
    "\n",
    "def trace_f2(model):\n",
    "    agent_f2 = [agent.state_f2 for agent in model.schedule.agents]\n",
    "    x = sum(agent_f2)\n",
    "    N = model.num_agents\n",
    "    B = x / N\n",
    "    return B"
   ]
  },
  {
   "cell_type": "code",
   "execution_count": 6,
   "metadata": {
    "collapsed": false
   },
   "outputs": [],
   "source": [
    "class hboc(Model):\n",
    "    \"\"\"A model with some number of agents.\"\"\"\n",
    "    def __init__(self, N):\n",
    "        self.num_agents = N\n",
    "        self.cycle  = 0\n",
    "        self.schedule = RandomActivation(self)\n",
    "        \n",
    "        # Create agents\n",
    "        for i in range(self.num_agents):\n",
    "            a = Person(i, self)\n",
    "            self.schedule.add(a)    \n",
    "        # Store data after each step\n",
    "        self.datacollector = DataCollector(model_reporters=\n",
    "                                           {\"a0\": trace_a0,\n",
    "                                            \"a1\": trace_a1,\n",
    "                                            \"a2\": trace_a2,\n",
    "                                            \"b\": trace_bc_allstage,\n",
    "                                            \"c\": trace_oc_allstage,\n",
    "#                                            \"b1\": trace_b1,\n",
    "#                                            \"b2\": trace_b2,\n",
    "#                                            \"b3\": trace_b3,\n",
    "#                                            \"b4\": trace_b4,\n",
    "#                                            \"c1\": trace_c1,\n",
    "#                                            \"c2\": trace_c2,\n",
    "#                                            \"c3\": trace_c3,\n",
    "                                            \"e\": trace_e0,\n",
    "                                            \"f0\": trace_f0,\n",
    "                                            \"f1\": trace_f1,\n",
    "                                            \"f2\": trace_f2},\n",
    "                                           agent_reporters=\n",
    "                                           {\"State_a0\": lambda a: a.state_a0,\n",
    "                                            \"State_a1\": lambda a: a.state_a1,\n",
    "                                            \"State_a2\": lambda a: a.state_a2,\n",
    "                                            \"State_b1\": lambda a: a.state_b1,\n",
    "                                            \"State_b2\": lambda a: a.state_b2,\n",
    "                                            \"State_b3\": lambda a: a.state_b3,\n",
    "                                            \"State_b4\": lambda a: a.state_b4,\n",
    "                                            \"State_c1\": lambda a: a.state_c1,\n",
    "                                            \"State_c2\": lambda a: a.state_c2,\n",
    "                                            \"State_c3\": lambda a: a.state_c3,\n",
    "                                            \"State_e0\": lambda a: a.state_e0,\n",
    "                                            \"State_f0\": lambda a: a.state_f0,\n",
    "                                            \"State_f1\": lambda a: a.state_f1,\n",
    "                                            \"State_f2\": lambda a: a.state_f2})\n",
    "        \n",
    "    def step(self):\n",
    "        # store data  \n",
    "        self.datacollector.collect(self)\n",
    "                \n",
    "        #advnace a step\n",
    "        self.schedule.step()"
   ]
  },
  {
   "cell_type": "code",
   "execution_count": 166,
   "metadata": {
    "collapsed": true
   },
   "outputs": [],
   "source": [
    "N = 383"
   ]
  },
  {
   "cell_type": "code",
   "execution_count": 172,
   "metadata": {
    "collapsed": false
   },
   "outputs": [],
   "source": [
    "model = hboc(N)\n",
    "for i in range(51):\n",
    "    model.step()\n",
    "#        all_agent_movement = model.datacollector.get_agent_vars_dataframe()"
   ]
  },
  {
   "cell_type": "code",
   "execution_count": 173,
   "metadata": {
    "collapsed": false
   },
   "outputs": [],
   "source": [
    "output = model.datacollector.get_model_vars_dataframe()"
   ]
  },
  {
   "cell_type": "code",
   "execution_count": 174,
   "metadata": {
    "collapsed": false
   },
   "outputs": [
    {
     "data": {
      "text/plain": [
       "<matplotlib.text.Text at 0xbee3f28>"
      ]
     },
     "execution_count": 174,
     "metadata": {},
     "output_type": "execute_result"
    },
    {
     "data": {
      "image/png": "[encoded data removed]",
      "text/plain": [
       "<matplotlib.figure.Figure at 0xb12b400>"
      ]
     },
     "metadata": {},
     "output_type": "display_data"
    }
   ],
   "source": [
    "ax = output.plot()\n",
    "#ax.set_yticks(ticks)\n",
    "ax.set_xlabel('Years')\n",
    "ax.set_ylabel('% in state')\n",
    "ax.legend(loc='center left', bbox_to_anchor=(1, 0.5))\n",
    "ax.set_title('HBOC')\n",
    "#plt.savefig('M:\\pc\\Desktop\\plot.png', dpi = 400)"
   ]
  },
  {
   "cell_type": "code",
   "execution_count": 175,
   "metadata": {
    "collapsed": false
   },
   "outputs": [],
   "source": [
    "# Det ser kanskje ut som om koden har en bug som gjør at funksjonen med \"dersom i state_bi\" i 10 år -> a1, \n",
    "# den fungerer faktisk, men i o m at denne kreften er såpass sjelden på aggregert nivå, og at den har en økt dødelighet\n",
    "# ser det slik ut. "
   ]
  },
  {
   "cell_type": "markdown",
   "metadata": {},
   "source": [
    "### Cabin crew, crosscheck and report:"
   ]
  },
  {
   "cell_type": "code",
   "execution_count": 176,
   "metadata": {
    "collapsed": false
   },
   "outputs": [
    {
     "data": {
      "text/plain": [
       "<matplotlib.axes._subplots.AxesSubplot at 0xc003470>"
      ]
     },
     "execution_count": 176,
     "metadata": {},
     "output_type": "execute_result"
    },
    {
     "data": {
      "image/png": "[encoded data removed]",
      "text/plain": [
       "<matplotlib.figure.Figure at 0xc0277f0>"
      ]
     },
     "metadata": {},
     "output_type": "display_data"
    }
   ],
   "source": [
    "bc_cases = sum(output.b)*N\n",
    "oc_cases = sum(output.c)\n",
    "deaths = sum(output.f1 + output.f2)*N\n",
    "\n",
    "data = {\n",
    "       'Number' : [bc_cases, oc_cases, deaths]}\n",
    "df = pd.DataFrame(data = data, columns =['Number'], index = ['New breast cancers', 'New ovarian cancers', 'Excess deaths'])\n",
    "df\n",
    "df.plot(kind='bar', color = 'b', alpha = 0.5)"
   ]
  },
  {
   "cell_type": "markdown",
   "metadata": {},
   "source": [
    "*Above: in the natural history case we see how rare ovarian carcinomas are in realtion to breast cancer. We also observe the non-existent excess mortality due to these cancers in the base case. This is the same as is observed in official Norwegian statistics - there is more or less no excess mortality from breast cancer in Norway anymore. This can be attributed to the fact that breast cancer is diagnosed at an early stage where prognosis is good.*"
   ]
  },
  {
   "cell_type": "code",
   "execution_count": 163,
   "metadata": {
    "collapsed": false
   },
   "outputs": [
    {
     "data": {
      "text/plain": [
       "9.6999999999999993"
      ]
     },
     "execution_count": 163,
     "metadata": {},
     "output_type": "execute_result"
    }
   ],
   "source": [
    "# Average annual bc cases predicted per N women\n",
    "anav_bc_cases = bc_cases/20  \n",
    "anav_bc_cases"
   ]
  },
  {
   "cell_type": "code",
   "execution_count": 73,
   "metadata": {
    "collapsed": false
   },
   "outputs": [
    {
     "data": {
      "text/plain": [
       "0.88124213176668054"
      ]
     },
     "execution_count": 73,
     "metadata": {},
     "output_type": "execute_result"
    }
   ],
   "source": [
    "pred_to_obs = check/238.3\n",
    "pred_to_obs"
   ]
  },
  {
   "cell_type": "markdown",
   "metadata": {},
   "source": [
    "#### *If huge deviation, go back see what could be wrong. If close, be seated for landing.*"
   ]
  },
  {
   "cell_type": "markdown",
   "metadata": {},
   "source": [
    "--"
   ]
  },
  {
   "cell_type": "markdown",
   "metadata": {},
   "source": [
    "### Cases that potentially could be avoided:\n",
    "- Considering that ~10% of cases are genetically caused, and that only high penetrance genes will warrant clinical action, we first need to establish how many of those cases could be prevented if we were able to identify all, and prevent all.   "
   ]
  },
  {
   "cell_type": "markdown",
   "metadata": {
    "collapsed": false
   },
   "source": [
    "### 1.0 Natural history model w/ hereditary mutation"
   ]
  },
  {
   "cell_type": "markdown",
   "metadata": {},
   "source": [
    "There is a finite amount of genes known to cause an increased cancer risk in the breast and the ovaries. Cutting edge field under constant update so what we know now will be come outdated rapidly. "
   ]
  },
  {
   "cell_type": "markdown",
   "metadata": {},
   "source": [
    "When genetics laboratories are using panel testing they include a certain amount of genes in their panels, not all of which are directly related to developing breast and ovarian cancer. \n",
    "#### Assumption: we disregard the genes in panels that are not related directly to an increased risk of breast - or ovarian cancer.\n",
    "Naturally, it is not possible to know all pathogenic mutations so we have to simplify and assume a possibility of a mutations in some of the genes we know at present can be pathogenic.\n",
    "As an example of a cancer panel that the company Myriad Genetics uses we can look at the following genes\n",
    "\n",
    "      Genes:    Increased risk for\n",
    "    - BRCA 1    Breast cancer\n",
    "    - BRCA 2    Breast cancer\n",
    "    - ATM       Breast cancer (RR unknown)\n",
    "    - BRIP1     Breast, ovarian cancer\n",
    "    - CDH1      Breast cancer\n",
    "    - NBN       Breast cancer\n",
    "    - PALB2     Breast cancer\n",
    "    - PTEN      Breast cancer\n",
    "    - STK11     Breast cancer\n",
    "    - TP53      Breast cancer\n",
    "    - RAD51C    Ovarian cancer\n",
    "    - RAD51D    Ovarian cancer\n",
    "    \n",
    "The remaining 13 genes are for increased cancer in other organs, and cancer syndromes.     \n"
   ]
  },
  {
   "cell_type": "markdown",
   "metadata": {},
   "source": [
    "*Transform transition probabilities if carrier with RR - which tp's would be affected?*\n",
    "Susceptible -> recurrence? Assume its a go?\n",
    "\n",
    "Susceptible -> primary bc\n",
    "\n",
    "Susceptible -> primary oc\n"
   ]
  },
  {
   "cell_type": "code",
   "execution_count": 91,
   "metadata": {
    "collapsed": true
   },
   "outputs": [],
   "source": [
    "## From a0\n",
    "# Transition probabilities\n",
    "def tp_a0b0(age):\n",
    "    \"\"\"\n",
    "    Changes with mutation status, type, likelihood, and penetrace\n",
    "    \"\"\"\n",
    "    return rb(age)\n",
    "def tp_a0c0(age):\n",
    "    \"\"\"\n",
    "    Changes with mutation status, type, likelihood, and penetrace\n",
    "    \"\"\"\n",
    "    return ro(age)\n",
    "def tp_a0d0():\n",
    "    return mo()\n",
    "def tp_a0d1():\n",
    "    return ma()\n",
    "def tp_a0d2():\n",
    "    return oo()\n",
    "def tp_a0f0(age):\n",
    "    return mb(age)\n",
    "\n",
    "# Complete probability set from state\n",
    "def from_a0(age):\n",
    "    \"\"\"\n",
    "    Needs to be treated as array of occuring events\n",
    "    \"\"\"\n",
    "    true_pr_a0 = [\n",
    "        (1 - (tp_a0b0(age) + tp_a0c0(age) + tp_a0d0() + tp_a0d1() + tp_a0d2() + tp_a0f0(age))),\n",
    "        tp_a0b0(age),\n",
    "        tp_a0c0(age),\n",
    "        tp_a0d0(),\n",
    "        tp_a0d1(),\n",
    "        tp_a0d2(),\n",
    "        tp_a0f0(age)\n",
    "                  ]\n",
    "# Event for agent each step| transition probabilities, own age\n",
    "    a0 = np.random.multinomial(1, pvals = true_pr_a0)\n",
    "    return a0"
   ]
  },
  {
   "cell_type": "code",
   "execution_count": 92,
   "metadata": {
    "collapsed": true
   },
   "outputs": [],
   "source": [
    "## From a1\n",
    "# Transition probabilties\n",
    "def tp_a1c0(age):\n",
    "    \"\"\"\n",
    "    Changes with mutation status, type, likelihood, and penetrace\n",
    "    \"\"\"\n",
    "    return ro(age)\n",
    "def tp_a1d2():\n",
    "    return oo()\n",
    "def tp_a1f0(age):\n",
    "    return mb(age)\n",
    "\n",
    "# Complete probability set from state\n",
    "def from_a1(age):\n",
    "    \"\"\"\n",
    "    Needs to be treated as array of occuring events\n",
    "    \"\"\"\n",
    "    true_pr_a1 = [\n",
    "        (1 - (tp_a1c0(age) + tp_a1d2() + tp_a1f0(age))),\n",
    "        tp_a1c0(age),\n",
    "        tp_a1d2(),\n",
    "        tp_a1f0(age)\n",
    "                ]\n",
    "# Event for agent each step | transition probabilities, own age\n",
    "    a1 = np.random.multinomial(1, pvals = true_pr_a1)\n",
    "    return a1"
   ]
  },
  {
   "cell_type": "code",
   "execution_count": 93,
   "metadata": {
    "collapsed": true
   },
   "outputs": [],
   "source": [
    "## From a2 \n",
    "\n",
    "# Transition probabilities\n",
    "def tp_a2b0r(age):\n",
    "    \"\"\"\n",
    "    Changes with mutation status, type, likelihood, and penetrace\n",
    "    \"\"\"\n",
    "    return bcr(age)\n",
    "def tp_a2b0(age):\n",
    "    \"\"\"\n",
    "    Changes with mutation status, type, likelihood, and penetrace\n",
    "    \"\"\"\n",
    "    \n",
    "    return rb(age)\n",
    "def tp_a2d1():\n",
    "    return ma()\n",
    "def tp_a2f0(age):\n",
    "    return mb(age)\n",
    "\n",
    "# Complete probability set from state\n",
    "def from_a2r(age):\n",
    "    true_pr_a2r = [\n",
    "        (1 - (tp_a2b0r(age) + tp_a2d1() + tp_a2f0(age))),\n",
    "        tp_a2b0r(age),\n",
    "        tp_a2d1(),\n",
    "        tp_a2f0(age)\n",
    "                ]\n",
    "# Event for agent each step | transition probabilities, own age\n",
    "    a2r = np.random.multinomial(1, pvals = true_pr_a2r)\n",
    "    return a2r\n",
    "\n",
    "\n",
    "# Complete probability set from state\n",
    "def from_a2(age):\n",
    "    \"\"\"\n",
    "    Needs to be treated as array of occuring events\n",
    "    \"\"\"\n",
    "    true_pr_a2 = [\n",
    "        (1 - (tp_a2b0(age) + tp_a2d1() + tp_a2f0(age))),\n",
    "        tp_a2b0(age),\n",
    "        tp_a2d1(),\n",
    "        tp_a2f0(age)\n",
    "                ]\n",
    "# Event for agent each step | transition probabilities, own age\n",
    "    a2 = np.random.multinomial(1, pvals = true_pr_a2)\n",
    "    return a2"
   ]
  },
  {
   "cell_type": "code",
   "execution_count": 155,
   "metadata": {
    "collapsed": false
   },
   "outputs": [
    {
     "data": {
      "text/plain": [
       "0.02459016393442623"
      ]
     },
     "execution_count": 155,
     "metadata": {},
     "output_type": "execute_result"
    }
   ],
   "source": [
    "## Genes selected in panel - their freguency in a population**, their effect if == 1\n",
    "\"\"\"\n",
    "** Population referes here to someone who've had breast cancer, not a completely healthy cohort, thus\n",
    "p(mutation) = frequency|individual has had cancer\n",
    "-> their cancer was either sporadic, OR heredited throuhg a genetic mutation\n",
    "\"\"\"\n",
    "\n",
    "# brca1\n",
    "p_brca1 = 18/488\n",
    "\n",
    "# brca2\n",
    "p_brca2 = 12/488\n",
    "\n"
   ]
  },
  {
   "cell_type": "code",
   "execution_count": null,
   "metadata": {
    "collapsed": true
   },
   "outputs": [],
   "source": []
  }
 ],
 "metadata": {
  "anaconda-cloud": {},
  "kernelspec": {
   "display_name": "Python [default]",
   "language": "python",
   "name": "python3"
  },
  "language_info": {
   "codemirror_mode": {
    "name": "ipython",
    "version": 3
   },
   "file_extension": ".py",
   "mimetype": "text/x-python",
   "name": "python",
   "nbconvert_exporter": "python",
   "pygments_lexer": "ipython3",
   "version": "3.5.2"
  },
  "widgets": {
   "state": {
    "2a198c4e643a4bbd9f16b7d8cae0bfdf": {
     "views": [
      {
       "cell_index": 7
      }
     ]
    },
    "d81bc42cb5994b93b006fb1a314aea52": {
     "views": [
      {
       "cell_index": 7
      }
     ]
    }
   },
   "version": "1.2.0"
  }
 },
 "nbformat": 4,
 "nbformat_minor": 1
}
