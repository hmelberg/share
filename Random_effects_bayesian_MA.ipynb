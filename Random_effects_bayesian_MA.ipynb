{
 "cells": [
  {
   "cell_type": "code",
   "execution_count": 1,
   "metadata": {
    "collapsed": false
   },
   "outputs": [],
   "source": [
    "%matplotlib inline\n",
    "import numpy as np\n",
    "import pandas as pd\n",
    "import pymc3 as pm\n",
    "import seaborn as sns\n",
    "import matplotlib.pyplot as plt\n",
    "import pdb\n",
    "sns.set()"
   ]
  },
  {
   "cell_type": "code",
   "execution_count": 2,
   "metadata": {
    "collapsed": false
   },
   "outputs": [],
   "source": [
    "extracted_data = pd.read_excel('MA_data.xlsx')"
   ]
  },
  {
   "cell_type": "code",
   "execution_count": 3,
   "metadata": {
    "collapsed": false
   },
   "outputs": [
    {
     "data": {
      "text/html": [
       "<div>\n",
       "<table border=\"1\" class=\"dataframe\">\n",
       "  <thead>\n",
       "    <tr style=\"text-align: right;\">\n",
       "      <th></th>\n",
       "      <th>line</th>\n",
       "      <th>author</th>\n",
       "      <th>title</th>\n",
       "      <th>year</th>\n",
       "      <th>design</th>\n",
       "      <th>recruit</th>\n",
       "      <th>procedure</th>\n",
       "      <th>indication</th>\n",
       "      <th>population</th>\n",
       "      <th>atm</th>\n",
       "      <th>...</th>\n",
       "      <th>brip1</th>\n",
       "      <th>cdh1</th>\n",
       "      <th>chek2</th>\n",
       "      <th>nbn</th>\n",
       "      <th>palb2</th>\n",
       "      <th>pten</th>\n",
       "      <th>stk11</th>\n",
       "      <th>tp53</th>\n",
       "      <th>rad51c</th>\n",
       "      <th>rad51d</th>\n",
       "    </tr>\n",
       "  </thead>\n",
       "  <tbody>\n",
       "    <tr>\n",
       "      <th>0</th>\n",
       "      <td>1</td>\n",
       "      <td>The Cancer Genome Atlas Network</td>\n",
       "      <td>Comprehensive molecular portraits of human bre...</td>\n",
       "      <td>2012</td>\n",
       "      <td>not stated</td>\n",
       "      <td>not stated</td>\n",
       "      <td>whole exome sequencing</td>\n",
       "      <td>breast cancer</td>\n",
       "      <td>507</td>\n",
       "      <td>9</td>\n",
       "      <td>...</td>\n",
       "      <td>3</td>\n",
       "      <td>0</td>\n",
       "      <td>2</td>\n",
       "      <td>4</td>\n",
       "      <td>0</td>\n",
       "      <td>1</td>\n",
       "      <td>0</td>\n",
       "      <td>2</td>\n",
       "      <td>1</td>\n",
       "      <td>0</td>\n",
       "    </tr>\n",
       "    <tr>\n",
       "      <th>1</th>\n",
       "      <td>2</td>\n",
       "      <td>Tung et al</td>\n",
       "      <td>Frequency of Germline Mutations in 25 Cancer S...</td>\n",
       "      <td>2016</td>\n",
       "      <td>Prospective</td>\n",
       "      <td>2010-2012</td>\n",
       "      <td>NGS + Sanger for confirmation</td>\n",
       "      <td>breast cancer</td>\n",
       "      <td>488</td>\n",
       "      <td>5</td>\n",
       "      <td>...</td>\n",
       "      <td>4</td>\n",
       "      <td>0</td>\n",
       "      <td>10</td>\n",
       "      <td>1</td>\n",
       "      <td>1</td>\n",
       "      <td>1</td>\n",
       "      <td>0</td>\n",
       "      <td>0</td>\n",
       "      <td>1</td>\n",
       "      <td>1</td>\n",
       "    </tr>\n",
       "  </tbody>\n",
       "</table>\n",
       "<p>2 rows × 23 columns</p>\n",
       "</div>"
      ],
      "text/plain": [
       "   line                           author  \\\n",
       "0     1  The Cancer Genome Atlas Network   \n",
       "1     2                       Tung et al   \n",
       "\n",
       "                                               title  year       design  \\\n",
       "0  Comprehensive molecular portraits of human bre...  2012   not stated   \n",
       "1  Frequency of Germline Mutations in 25 Cancer S...  2016  Prospective   \n",
       "\n",
       "      recruit                      procedure     indication  population  atm  \\\n",
       "0  not stated         whole exome sequencing  breast cancer         507    9   \n",
       "1   2010-2012  NGS + Sanger for confirmation  breast cancer         488    5   \n",
       "\n",
       "    ...    brip1  cdh1  chek2  nbn  palb2  pten  stk11  tp53  rad51c  rad51d  \n",
       "0   ...        3     0      2    4      0     1      0     2       1       0  \n",
       "1   ...        4     0     10    1      1     1      0     0       1       1  \n",
       "\n",
       "[2 rows x 23 columns]"
      ]
     },
     "execution_count": 3,
     "metadata": {},
     "output_type": "execute_result"
    }
   ],
   "source": [
    "extracted_data"
   ]
  },
  {
   "cell_type": "code",
   "execution_count": 57,
   "metadata": {
    "collapsed": false
   },
   "outputs": [
    {
     "data": {
      "text/plain": [
       "array([2, 0])"
      ]
     },
     "execution_count": 57,
     "metadata": {},
     "output_type": "execute_result"
    }
   ],
   "source": [
    "mutations_atm = extracted_data.atm.values.astype(int)\n",
    "mutations_bard1 = extracted_data.bard1.values.astype(int)\n",
    "mutations_brca1 = extracted_data.brca1.values.astype(int)\n",
    "mutations_brca2 = extracted_data.brca2.values.astype(int)\n",
    "mutations_brip1 = extracted_data.brip1.values.astype(int)\n",
    "mutations_cdh1 = extracted_data.cdh1.values.astype(int)\n",
    "mutations_chek2 = extracted_data.chek2.values.astype(int)\n",
    "mutations_nbn = extracted_data.nbn.values.astype(int)\n",
    "mutations_palb2 = extracted_data.palb2.values.astype(int)\n",
    "mutations_pten = extracted_data.pten.values.astype(int)\n",
    "mutations_stk11 = extracted_data.stk11.values.astype(int)\n",
    "mutations_tp53 = extracted_data.tp53.values.astype(int)\n",
    "mutations_rad51c = extracted_data.rad51c.values.astype(int)\n",
    "mutations_rad51d = extracted_data.rad51d.values.astype(int)\n",
    "\n",
    "mutations_tp53"
   ]
  },
  {
   "cell_type": "code",
   "execution_count": 5,
   "metadata": {
    "collapsed": true
   },
   "outputs": [],
   "source": [
    "import theano.tensor as tt\n",
    "invlogit = pm.math.invlogit\n",
    "\n",
    "def RE_model(mutation_count):\n",
    "    \n",
    "    with pm.Model() as model:\n",
    "\n",
    "        i = extracted_data.shape[0]\n",
    "        mutation_count = mutation_count\n",
    "        n = extracted_data.population.values.astype(int)\n",
    "\n",
    "        # Study random effect\n",
    "        mu_gamma = pm.Normal('mu_gamma', 0, sd = 100000)\n",
    "        sigma_gamma = pm.Uniform('sigma_gamma', 0, 10)\n",
    "        gamma = pm.Normal('gamma', mu = mu_gamma, sd = sigma_gamma)\n",
    "      \n",
    "        # Study-specific probabilities\n",
    "        p_i = pm.Deterministic('p', invlogit(gamma))\n",
    "\n",
    "        obs = pm.Binomial('obs', n=n, p= p_i, observed=mutation_count)\n",
    "        \n",
    "    return model"
   ]
  },
  {
   "cell_type": "markdown",
   "metadata": {},
   "source": [
    "Gene: ATM"
   ]
  },
  {
   "cell_type": "code",
   "execution_count": null,
   "metadata": {
    "collapsed": false
   },
   "outputs": [],
   "source": [
    "atm = RE_model(mutations_atm)"
   ]
  },
  {
   "cell_type": "code",
   "execution_count": null,
   "metadata": {
    "collapsed": false
   },
   "outputs": [],
   "source": [
    "with atm:\n",
    "    atm_trace = pm.sample(10000)"
   ]
  },
  {
   "cell_type": "code",
   "execution_count": null,
   "metadata": {
    "collapsed": true
   },
   "outputs": [],
   "source": [
    "atm_burned_trace = atm_trace[5000:]"
   ]
  },
  {
   "cell_type": "code",
   "execution_count": null,
   "metadata": {
    "collapsed": true
   },
   "outputs": [],
   "source": [
    "# pm.summary(atm_burned_trace, varnames = ['p'])"
   ]
  },
  {
   "cell_type": "code",
   "execution_count": null,
   "metadata": {
    "collapsed": false
   },
   "outputs": [],
   "source": [
    "# pm.forestplot(atm_burned_trace, varnames=['p'])"
   ]
  },
  {
   "cell_type": "code",
   "execution_count": null,
   "metadata": {
    "collapsed": true
   },
   "outputs": [],
   "source": [
    "p_atm = atm_burned_trace.p"
   ]
  },
  {
   "cell_type": "code",
   "execution_count": null,
   "metadata": {
    "collapsed": true
   },
   "outputs": [],
   "source": [
    "np.save('posterior_atm', p_atm)"
   ]
  },
  {
   "cell_type": "markdown",
   "metadata": {},
   "source": [
    "Gene: BARD1"
   ]
  },
  {
   "cell_type": "code",
   "execution_count": null,
   "metadata": {
    "collapsed": true
   },
   "outputs": [],
   "source": [
    "bard1 = RE_model(mutations_bard1)"
   ]
  },
  {
   "cell_type": "code",
   "execution_count": null,
   "metadata": {
    "collapsed": false
   },
   "outputs": [],
   "source": [
    "with bard1:\n",
    "    bard1_trace = pm.sample(10000)"
   ]
  },
  {
   "cell_type": "code",
   "execution_count": null,
   "metadata": {
    "collapsed": true
   },
   "outputs": [],
   "source": [
    "bard1_burned_trace = bard1_trace[5000:]"
   ]
  },
  {
   "cell_type": "code",
   "execution_count": null,
   "metadata": {
    "collapsed": false
   },
   "outputs": [],
   "source": [
    "#pm.summary(bard1_burned_trace, varnames=['p'])"
   ]
  },
  {
   "cell_type": "code",
   "execution_count": null,
   "metadata": {
    "collapsed": false
   },
   "outputs": [],
   "source": [
    "#pm.forestplot(bard1_burned_trace, varnames = ['p'])"
   ]
  },
  {
   "cell_type": "code",
   "execution_count": null,
   "metadata": {
    "collapsed": true
   },
   "outputs": [],
   "source": [
    "p_bard1 = bard1_burned_trace.p"
   ]
  },
  {
   "cell_type": "code",
   "execution_count": null,
   "metadata": {
    "collapsed": false
   },
   "outputs": [],
   "source": [
    "np.save('posterior_bard1', p_bard1)"
   ]
  },
  {
   "cell_type": "markdown",
   "metadata": {
    "collapsed": false
   },
   "source": [
    "Gene: BRCA 1"
   ]
  },
  {
   "cell_type": "code",
   "execution_count": null,
   "metadata": {
    "collapsed": true
   },
   "outputs": [],
   "source": [
    "brca1 = RE_model(mutations_brca1)"
   ]
  },
  {
   "cell_type": "code",
   "execution_count": null,
   "metadata": {
    "collapsed": false
   },
   "outputs": [],
   "source": [
    "with brca1:\n",
    "    brca1_trace = pm.sample(10000)"
   ]
  },
  {
   "cell_type": "code",
   "execution_count": null,
   "metadata": {
    "collapsed": true
   },
   "outputs": [],
   "source": [
    "brca1_burned_trace = brca1_trace[5000:]"
   ]
  },
  {
   "cell_type": "code",
   "execution_count": null,
   "metadata": {
    "collapsed": false
   },
   "outputs": [],
   "source": [
    "\n",
    "# pm.summary(brca1_burned_trace, varnames=['p'])"
   ]
  },
  {
   "cell_type": "code",
   "execution_count": null,
   "metadata": {
    "collapsed": false
   },
   "outputs": [],
   "source": [
    "# pm.forestplot(brca1_burned_trace, varnames = ['p'])"
   ]
  },
  {
   "cell_type": "code",
   "execution_count": null,
   "metadata": {
    "collapsed": true
   },
   "outputs": [],
   "source": [
    "p_brca1 = brca1_burned_trace.p"
   ]
  },
  {
   "cell_type": "code",
   "execution_count": null,
   "metadata": {
    "collapsed": true
   },
   "outputs": [],
   "source": [
    "\n",
    "np.save('posterior_brca1', p_brca1)"
   ]
  },
  {
   "cell_type": "markdown",
   "metadata": {},
   "source": [
    "Gene: BRCA 2"
   ]
  },
  {
   "cell_type": "code",
   "execution_count": null,
   "metadata": {
    "collapsed": true
   },
   "outputs": [],
   "source": [
    "brca2 = RE_model(mutations_brca2)"
   ]
  },
  {
   "cell_type": "code",
   "execution_count": null,
   "metadata": {
    "collapsed": false
   },
   "outputs": [],
   "source": [
    "with brca2:\n",
    "    brca2_trace = pm.sample(10000)"
   ]
  },
  {
   "cell_type": "code",
   "execution_count": null,
   "metadata": {
    "collapsed": true
   },
   "outputs": [],
   "source": [
    "brca2_burned_trace = brca2_trace[5000:]"
   ]
  },
  {
   "cell_type": "code",
   "execution_count": null,
   "metadata": {
    "collapsed": false
   },
   "outputs": [],
   "source": [
    "\n",
    "#pm.summary(brca2_burned_trace, varnames= ['p'])"
   ]
  },
  {
   "cell_type": "code",
   "execution_count": null,
   "metadata": {
    "collapsed": false
   },
   "outputs": [],
   "source": [
    "#pm.forestplot"
   ]
  },
  {
   "cell_type": "code",
   "execution_count": null,
   "metadata": {
    "collapsed": false
   },
   "outputs": [],
   "source": [
    "#pm.plot_posterior(brca1_burned_trace, varnames=['p'])"
   ]
  },
  {
   "cell_type": "code",
   "execution_count": null,
   "metadata": {
    "collapsed": true
   },
   "outputs": [],
   "source": [
    "p_brca2 = brca2_burned_trace.p"
   ]
  },
  {
   "cell_type": "code",
   "execution_count": null,
   "metadata": {
    "collapsed": true
   },
   "outputs": [],
   "source": [
    "\n",
    "np.save('posterior_brca2', p_brca2)"
   ]
  },
  {
   "cell_type": "markdown",
   "metadata": {},
   "source": [
    "Gene: BRIP1"
   ]
  },
  {
   "cell_type": "code",
   "execution_count": null,
   "metadata": {
    "collapsed": true
   },
   "outputs": [],
   "source": [
    "brip1 = RE_model(mutations_brip1)"
   ]
  },
  {
   "cell_type": "code",
   "execution_count": null,
   "metadata": {
    "collapsed": false
   },
   "outputs": [],
   "source": [
    "with brip1:\n",
    "    brip1_trace = pm.sample(10000)"
   ]
  },
  {
   "cell_type": "code",
   "execution_count": null,
   "metadata": {
    "collapsed": true
   },
   "outputs": [],
   "source": [
    "brip1_burned_trace = brip1_trace[5000:]"
   ]
  },
  {
   "cell_type": "code",
   "execution_count": null,
   "metadata": {
    "collapsed": false
   },
   "outputs": [],
   "source": [
    "#pm.plot_posterior(brip1_burned_trace, varnames= ['p'])"
   ]
  },
  {
   "cell_type": "code",
   "execution_count": null,
   "metadata": {
    "collapsed": true
   },
   "outputs": [],
   "source": [
    "p_brip1 = brip1_burned_trace.p"
   ]
  },
  {
   "cell_type": "code",
   "execution_count": null,
   "metadata": {
    "collapsed": true
   },
   "outputs": [],
   "source": [
    "np.save('posterior_brip1', p_brip1)"
   ]
  },
  {
   "cell_type": "markdown",
   "metadata": {},
   "source": [
    "Gene: CDH1 (obs: 0 observasjoner, så det vil ta lang tid, vent)"
   ]
  },
  {
   "cell_type": "code",
   "execution_count": null,
   "metadata": {
    "collapsed": true
   },
   "outputs": [],
   "source": [
    "cdh1 = RE_model(mutations_cdh1)\n",
    "with cdh1:\n",
    "    cdh1_trace = pm.sample(10000)"
   ]
  },
  {
   "cell_type": "code",
   "execution_count": null,
   "metadata": {
    "collapsed": true
   },
   "outputs": [],
   "source": [
    "stk11 = RE_model(mutations_stk11)\n",
    "with stk11:\n",
    "    stk11_trace = pm.sample(10000)"
   ]
  },
  {
   "cell_type": "markdown",
   "metadata": {},
   "source": [
    "Gene: CHEK2"
   ]
  },
  {
   "cell_type": "code",
   "execution_count": null,
   "metadata": {
    "collapsed": true
   },
   "outputs": [],
   "source": [
    "chek2 = RE_model(mutations_chek2)"
   ]
  },
  {
   "cell_type": "code",
   "execution_count": null,
   "metadata": {
    "collapsed": false
   },
   "outputs": [],
   "source": [
    "with chek2:\n",
    "    chek2_trace = pm.sample(10000)"
   ]
  },
  {
   "cell_type": "code",
   "execution_count": null,
   "metadata": {
    "collapsed": true
   },
   "outputs": [],
   "source": [
    "chek2_burned_trace = chek2_trace[5000:]"
   ]
  },
  {
   "cell_type": "code",
   "execution_count": null,
   "metadata": {
    "collapsed": false
   },
   "outputs": [],
   "source": [
    "#pm.plot_posterior(chek2_burned_trace)"
   ]
  },
  {
   "cell_type": "code",
   "execution_count": null,
   "metadata": {
    "collapsed": true
   },
   "outputs": [],
   "source": [
    "p_chek2 = chek2_burned_trace.p"
   ]
  },
  {
   "cell_type": "code",
   "execution_count": null,
   "metadata": {
    "collapsed": true
   },
   "outputs": [],
   "source": [
    "np.save('posterior_chek2', p_chek2)"
   ]
  },
  {
   "cell_type": "markdown",
   "metadata": {},
   "source": [
    "Gene: NBN"
   ]
  },
  {
   "cell_type": "code",
   "execution_count": null,
   "metadata": {
    "collapsed": true
   },
   "outputs": [],
   "source": [
    "nbn = RE_model(mutations_nbn)"
   ]
  },
  {
   "cell_type": "code",
   "execution_count": null,
   "metadata": {
    "collapsed": false
   },
   "outputs": [],
   "source": [
    "with nbn:\n",
    "    nbn_trace = pm.sample(10000)"
   ]
  },
  {
   "cell_type": "code",
   "execution_count": null,
   "metadata": {
    "collapsed": true
   },
   "outputs": [],
   "source": [
    "nbn_burned_trace = nbn_trace[5000:]"
   ]
  },
  {
   "cell_type": "code",
   "execution_count": null,
   "metadata": {
    "collapsed": false
   },
   "outputs": [],
   "source": [
    "# pm.plot_posterior(nbn_burned_trace, varnames= ['p'])"
   ]
  },
  {
   "cell_type": "code",
   "execution_count": null,
   "metadata": {
    "collapsed": true
   },
   "outputs": [],
   "source": [
    "p_nbn = nbn_burned_trace.p"
   ]
  },
  {
   "cell_type": "code",
   "execution_count": null,
   "metadata": {
    "collapsed": true
   },
   "outputs": [],
   "source": [
    "np.save('posterior_nbn', p_nbn)"
   ]
  },
  {
   "cell_type": "markdown",
   "metadata": {},
   "source": [
    "Gene: PALB2"
   ]
  },
  {
   "cell_type": "code",
   "execution_count": 49,
   "metadata": {
    "collapsed": true
   },
   "outputs": [],
   "source": [
    "palb2 = RE_model(mutations_palb2)"
   ]
  },
  {
   "cell_type": "code",
   "execution_count": 50,
   "metadata": {
    "collapsed": false
   },
   "outputs": [
    {
     "name": "stderr",
     "output_type": "stream",
     "text": [
      "Auto-assigning NUTS sampler...\n",
      "Initializing NUTS using advi...\n",
      "Average ELBO = -14.967: 100%|███████| 200000/200000 [00:12<00:00, 15577.54it/s]\n",
      "Finished [100%]: Average ELBO = -15.2\n",
      "100%|███████████████████████████████████| 10000/10000 [00:17<00:00, 577.00it/s]\n"
     ]
    }
   ],
   "source": [
    "with palb2:\n",
    "    palb2_trace = pm.sample(10000)"
   ]
  },
  {
   "cell_type": "code",
   "execution_count": 51,
   "metadata": {
    "collapsed": true
   },
   "outputs": [],
   "source": [
    "palb2_burned_trace = palb2_trace[5000:]"
   ]
  },
  {
   "cell_type": "code",
   "execution_count": 53,
   "metadata": {
    "collapsed": false
   },
   "outputs": [],
   "source": [
    "#pm.plot_posterior(palb2_burned_trace, varnames= ['p'])"
   ]
  },
  {
   "cell_type": "code",
   "execution_count": 54,
   "metadata": {
    "collapsed": true
   },
   "outputs": [],
   "source": [
    "p_palb2 = palb2_burned_trace.p"
   ]
  },
  {
   "cell_type": "code",
   "execution_count": 55,
   "metadata": {
    "collapsed": true
   },
   "outputs": [],
   "source": [
    "np.save('posterior_palb2', p_palb2)"
   ]
  },
  {
   "cell_type": "markdown",
   "metadata": {},
   "source": [
    "Gene: PTEN"
   ]
  },
  {
   "cell_type": "code",
   "execution_count": 6,
   "metadata": {
    "collapsed": true
   },
   "outputs": [],
   "source": [
    "pten = RE_model(mutations_pten)"
   ]
  },
  {
   "cell_type": "code",
   "execution_count": 7,
   "metadata": {
    "collapsed": false
   },
   "outputs": [
    {
     "name": "stderr",
     "output_type": "stream",
     "text": [
      "Auto-assigning NUTS sampler...\n",
      "Initializing NUTS using advi...\n",
      "Average ELBO = -15.177: 100%|███████| 200000/200000 [00:12<00:00, 15482.27it/s]\n",
      "Finished [100%]: Average ELBO = -15.681\n",
      "100%|███████████████████████████████████| 10000/10000 [00:17<00:00, 563.29it/s]\n"
     ]
    }
   ],
   "source": [
    "with pten:\n",
    "    pten_trace = pm.sample(10000)"
   ]
  },
  {
   "cell_type": "code",
   "execution_count": 8,
   "metadata": {
    "collapsed": true
   },
   "outputs": [],
   "source": [
    "pten_burned_trace = pten_trace[5000:]"
   ]
  },
  {
   "cell_type": "code",
   "execution_count": 10,
   "metadata": {
    "collapsed": false
   },
   "outputs": [],
   "source": [
    "# pm.plot_posterior(pten_burned_trace, varnames = 'p')"
   ]
  },
  {
   "cell_type": "code",
   "execution_count": 11,
   "metadata": {
    "collapsed": true
   },
   "outputs": [],
   "source": [
    "p_pten = pten_burned_trace.p"
   ]
  },
  {
   "cell_type": "code",
   "execution_count": 13,
   "metadata": {
    "collapsed": false
   },
   "outputs": [],
   "source": [
    "np.save('posterior_pten', p_pten)"
   ]
  },
  {
   "cell_type": "markdown",
   "metadata": {},
   "source": [
    "Gene: RAD51C"
   ]
  },
  {
   "cell_type": "code",
   "execution_count": 31,
   "metadata": {
    "collapsed": true
   },
   "outputs": [],
   "source": [
    "rad51c = RE_model(mutations_rad51c)"
   ]
  },
  {
   "cell_type": "code",
   "execution_count": 32,
   "metadata": {
    "collapsed": false
   },
   "outputs": [
    {
     "name": "stderr",
     "output_type": "stream",
     "text": [
      "Auto-assigning NUTS sampler...\n",
      "Initializing NUTS using advi...\n",
      "Average ELBO = -15.431: 100%|███████| 200000/200000 [00:13<00:00, 14918.69it/s]\n",
      "Finished [100%]: Average ELBO = -15.951\n",
      "100%|███████████████████████████████████| 10000/10000 [00:17<00:00, 564.27it/s]\n"
     ]
    }
   ],
   "source": [
    "with rad51c:\n",
    "    rad15c_trace = pm.sample(10000)"
   ]
  },
  {
   "cell_type": "code",
   "execution_count": 33,
   "metadata": {
    "collapsed": true
   },
   "outputs": [],
   "source": [
    "rad51c_burned_trace = rad15c_trace[5000:]"
   ]
  },
  {
   "cell_type": "code",
   "execution_count": 35,
   "metadata": {
    "collapsed": false
   },
   "outputs": [],
   "source": [
    "# pm.plot_posterior(rad51c_burned_trace, varnames= ['p'])"
   ]
  },
  {
   "cell_type": "code",
   "execution_count": 36,
   "metadata": {
    "collapsed": true
   },
   "outputs": [],
   "source": [
    "p_rad51c = rad51c_burned_trace.p"
   ]
  },
  {
   "cell_type": "code",
   "execution_count": 37,
   "metadata": {
    "collapsed": true
   },
   "outputs": [],
   "source": [
    "np.save('posterior_rad51c', p_rad51c)"
   ]
  },
  {
   "cell_type": "code",
   "execution_count": 40,
   "metadata": {
    "collapsed": false
   },
   "outputs": [],
   "source": [
    "rad51d = RE_model(mutations_rad51d)"
   ]
  },
  {
   "cell_type": "code",
   "execution_count": 41,
   "metadata": {
    "collapsed": false
   },
   "outputs": [
    {
     "name": "stderr",
     "output_type": "stream",
     "text": [
      "Auto-assigning NUTS sampler...\n",
      "Initializing NUTS using advi...\n",
      "Average ELBO = -14.908: 100%|███████| 200000/200000 [00:12<00:00, 15465.51it/s]\n",
      "Finished [100%]: Average ELBO = -14.91\n",
      "100%|███████████████████████████████████| 10000/10000 [00:18<00:00, 547.44it/s]\n"
     ]
    }
   ],
   "source": [
    "with rad51d:\n",
    "    rad51d_trace = pm.sample(10000)"
   ]
  },
  {
   "cell_type": "code",
   "execution_count": 42,
   "metadata": {
    "collapsed": true
   },
   "outputs": [],
   "source": [
    "rad51d_burned_trace = rad51d_trace[5000:]"
   ]
  },
  {
   "cell_type": "code",
   "execution_count": 44,
   "metadata": {
    "collapsed": false
   },
   "outputs": [],
   "source": [
    "# pm.plot_posterior(rad51d_burned_trace, varnames= ['p'])"
   ]
  },
  {
   "cell_type": "code",
   "execution_count": 45,
   "metadata": {
    "collapsed": true
   },
   "outputs": [],
   "source": [
    "p_rad51d = rad51d_burned_trace.p"
   ]
  },
  {
   "cell_type": "code",
   "execution_count": 46,
   "metadata": {
    "collapsed": true
   },
   "outputs": [],
   "source": [
    "np.save('posterior_rad51d', p_rad51d)"
   ]
  },
  {
   "cell_type": "markdown",
   "metadata": {
    "collapsed": true
   },
   "source": [
    "Gene: STK11"
   ]
  },
  {
   "cell_type": "markdown",
   "metadata": {},
   "source": [
    "Gene: TP53"
   ]
  },
  {
   "cell_type": "code",
   "execution_count": 58,
   "metadata": {
    "collapsed": true
   },
   "outputs": [],
   "source": [
    "tp53 = RE_model(mutations_tp53)"
   ]
  },
  {
   "cell_type": "code",
   "execution_count": 59,
   "metadata": {
    "collapsed": false
   },
   "outputs": [
    {
     "name": "stderr",
     "output_type": "stream",
     "text": [
      "Auto-assigning NUTS sampler...\n",
      "Initializing NUTS using advi...\n",
      "Average ELBO = -16.819: 100%|███████| 200000/200000 [00:13<00:00, 14803.85it/s]\n",
      "Finished [100%]: Average ELBO = -17.197\n",
      "100%|███████████████████████████████████| 10000/10000 [00:18<00:00, 548.82it/s]\n"
     ]
    }
   ],
   "source": [
    "with tp53:\n",
    "    tp53_trace = pm.sample(10000)"
   ]
  },
  {
   "cell_type": "code",
   "execution_count": 60,
   "metadata": {
    "collapsed": true
   },
   "outputs": [],
   "source": [
    "tp53_burned_trace = tp53_trace[5000:]"
   ]
  },
  {
   "cell_type": "code",
   "execution_count": 61,
   "metadata": {
    "collapsed": false
   },
   "outputs": [
    {
     "data": {
      "text/plain": [
       "array([<matplotlib.axes._subplots.AxesSubplot object at 0x00000000136D2710>], dtype=object)"
      ]
     },
     "execution_count": 61,
     "metadata": {},
     "output_type": "execute_result"
    },
    {
     "data": {
      "image/png": "[encoded data removed]",
      "text/plain": [
       "<matplotlib.figure.Figure at 0x1328a080>"
      ]
     },
     "metadata": {},
     "output_type": "display_data"
    }
   ],
   "source": [
    "pm.plot_posterior(tp53_burned_trace, varnames= ['p'])"
   ]
  },
  {
   "cell_type": "code",
   "execution_count": null,
   "metadata": {
    "collapsed": true
   },
   "outputs": [],
   "source": []
  }
 ],
 "metadata": {
  "anaconda-cloud": {},
  "kernelspec": {
   "display_name": "Python [default]",
   "language": "python",
   "name": "python2"
  },
  "language_info": {
   "codemirror_mode": {
    "name": "ipython",
    "version": 2
   },
   "file_extension": ".py",
   "mimetype": "text/x-python",
   "name": "python",
   "nbconvert_exporter": "python",
   "pygments_lexer": "ipython2",
   "version": "2.7.12"
  }
 },
 "nbformat": 4,
 "nbformat_minor": 1
}
