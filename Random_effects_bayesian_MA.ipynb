{
 "cells": [
  {
   "cell_type": "code",
   "execution_count": 1,
   "metadata": {
    "collapsed": true
   },
   "outputs": [],
   "source": [
    "%matplotlib inline\n",
    "import numpy as np\n",
    "import pandas as pd\n",
    "import pymc3 as pm\n",
    "import seaborn as sns\n",
    "import matplotlib.pyplot as plt\n",
    "import pdb\n",
    "sns.set()"
   ]
  },
  {
   "cell_type": "code",
   "execution_count": 5,
   "metadata": {
    "collapsed": false,
    "scrolled": false
   },
   "outputs": [
    {
     "data": {
      "text/html": [
       "<div>\n",
       "<table border=\"1\" class=\"dataframe\">\n",
       "  <thead>\n",
       "    <tr style=\"text-align: right;\">\n",
       "      <th></th>\n",
       "      <th>line</th>\n",
       "      <th>author</th>\n",
       "      <th>title</th>\n",
       "      <th>year</th>\n",
       "      <th>design</th>\n",
       "      <th>recruit</th>\n",
       "      <th>procedure</th>\n",
       "      <th>indication</th>\n",
       "      <th>population</th>\n",
       "      <th>atm</th>\n",
       "      <th>...</th>\n",
       "      <th>brip1</th>\n",
       "      <th>cdh1</th>\n",
       "      <th>chek2</th>\n",
       "      <th>nbn</th>\n",
       "      <th>palb2</th>\n",
       "      <th>pten</th>\n",
       "      <th>stk11</th>\n",
       "      <th>tp53</th>\n",
       "      <th>rad51c</th>\n",
       "      <th>rad51d</th>\n",
       "    </tr>\n",
       "  </thead>\n",
       "  <tbody>\n",
       "    <tr>\n",
       "      <th>0</th>\n",
       "      <td>1</td>\n",
       "      <td>The Cancer Genome Atlas Network</td>\n",
       "      <td>Comprehensive molecular portraits of human bre...</td>\n",
       "      <td>2012</td>\n",
       "      <td>not stated</td>\n",
       "      <td>not stated</td>\n",
       "      <td>whole exome sequencing</td>\n",
       "      <td>breast cancer</td>\n",
       "      <td>507</td>\n",
       "      <td>9</td>\n",
       "      <td>...</td>\n",
       "      <td>3</td>\n",
       "      <td>0</td>\n",
       "      <td>2</td>\n",
       "      <td>4</td>\n",
       "      <td>0</td>\n",
       "      <td>1</td>\n",
       "      <td>0</td>\n",
       "      <td>2</td>\n",
       "      <td>1</td>\n",
       "      <td>0</td>\n",
       "    </tr>\n",
       "    <tr>\n",
       "      <th>1</th>\n",
       "      <td>2</td>\n",
       "      <td>Tung et al</td>\n",
       "      <td>Frequency of Germline Mutations in 25 Cancer S...</td>\n",
       "      <td>2016</td>\n",
       "      <td>Prospective</td>\n",
       "      <td>2010-2012</td>\n",
       "      <td>NGS + Sanger for confirmation</td>\n",
       "      <td>breast cancer</td>\n",
       "      <td>488</td>\n",
       "      <td>5</td>\n",
       "      <td>...</td>\n",
       "      <td>4</td>\n",
       "      <td>0</td>\n",
       "      <td>10</td>\n",
       "      <td>1</td>\n",
       "      <td>1</td>\n",
       "      <td>1</td>\n",
       "      <td>0</td>\n",
       "      <td>0</td>\n",
       "      <td>1</td>\n",
       "      <td>1</td>\n",
       "    </tr>\n",
       "  </tbody>\n",
       "</table>\n",
       "<p>2 rows × 23 columns</p>\n",
       "</div>"
      ],
      "text/plain": [
       "   line                           author  \\\n",
       "0     1  The Cancer Genome Atlas Network   \n",
       "1     2                       Tung et al   \n",
       "\n",
       "                                               title  year       design  \\\n",
       "0  Comprehensive molecular portraits of human bre...  2012   not stated   \n",
       "1  Frequency of Germline Mutations in 25 Cancer S...  2016  Prospective   \n",
       "\n",
       "      recruit                      procedure     indication  population  atm  \\\n",
       "0  not stated         whole exome sequencing  breast cancer         507    9   \n",
       "1   2010-2012  NGS + Sanger for confirmation  breast cancer         488    5   \n",
       "\n",
       "    ...    brip1  cdh1  chek2  nbn  palb2  pten  stk11  tp53  rad51c  rad51d  \n",
       "0   ...        3     0      2    4      0     1      0     2       1       0  \n",
       "1   ...        4     0     10    1      1     1      0     0       1       1  \n",
       "\n",
       "[2 rows x 23 columns]"
      ]
     },
     "execution_count": 5,
     "metadata": {},
     "output_type": "execute_result"
    }
   ],
   "source": [
    "extracted_data = pd.read_excel('MA_data.xlsx')\n",
    "extracted_data"
   ]
  },
  {
   "cell_type": "markdown",
   "metadata": {},
   "source": [
    "Will need to perform a meta analysis for each gene because they result in different relative risk"
   ]
  },
  {
   "cell_type": "code",
   "execution_count": 23,
   "metadata": {
    "collapsed": false,
    "scrolled": true
   },
   "outputs": [
    {
     "data": {
      "text/plain": [
       "Index([u'line', u'author', u'title', u'year', u'design', u'recruit',\n",
       "       u'procedure', u'indication', u'population', u'atm', u'bard1', u'brca1',\n",
       "       u'brca2', u'brip1', u'cdh1', u'chek2', u'nbn', u'palb2', u'pten',\n",
       "       u'stk11', u'tp53', u'rad51c', u'rad51d'],\n",
       "      dtype='object')"
      ]
     },
     "execution_count": 23,
     "metadata": {},
     "output_type": "execute_result"
    }
   ],
   "source": [
    "\n",
    "\n",
    "\n",
    "extracted_data.columns"
   ]
  },
  {
   "cell_type": "code",
   "execution_count": 26,
   "metadata": {
    "collapsed": false
   },
   "outputs": [
    {
     "data": {
      "text/plain": [
       "array([507, 488])"
      ]
     },
     "execution_count": 26,
     "metadata": {},
     "output_type": "execute_result"
    }
   ],
   "source": [
    "# Gene by-gene:\n",
    "mutations_atm = extracted_data.atm.values.astype(int)"
   ]
  },
  {
   "cell_type": "code",
   "execution_count": 32,
   "metadata": {
    "collapsed": false
   },
   "outputs": [],
   "source": [
    "import theano.tensor as tt\n",
    "invlogit = pm.math.invlogit\n",
    "\n",
    "def RE_model(mutation_count):\n",
    "    \n",
    "    with pm.Model() as model:\n",
    "\n",
    "        i = i = extracted_data.shape[0] # Studies in dataset\n",
    "        mutation_count = mutation_count\n",
    "        n = n = extracted_data.population.values.astype(int) # study population sizes\n",
    "\n",
    "        # Study random effect\n",
    "        mu_gamma = pm.Normal('mu_gramma', 0, sd=100000)\n",
    "        sigma_gamma = pm.Uniform('sigma_gamma', 0, 10)\n",
    "        gamma = pm.Normal('gamma', mu= mu_gamma, sd = sigma_gamma)\n",
    "\n",
    "        # Study-specific probabilities\n",
    "        p_i = pm.Deterministic('p', invlogit(gamma))\n",
    "\n",
    "        obs = pm.Binomial('obs', n=n, p=p_i, observed=mutation_count)\n",
    "        \n",
    "    return model"
   ]
  },
  {
   "cell_type": "code",
   "execution_count": 34,
   "metadata": {
    "collapsed": false
   },
   "outputs": [],
   "source": [
    "atm = RE_model(mutations_atm)"
   ]
  },
  {
   "cell_type": "code",
   "execution_count": 35,
   "metadata": {
    "collapsed": false
   },
   "outputs": [
    {
     "name": "stderr",
     "output_type": "stream",
     "text": [
      "Auto-assigning NUTS sampler...\n",
      "Initializing NUTS using advi...\n",
      "Average ELBO = -18.605: 100%|███████| 200000/200000 [00:12<00:00, 15455.95it/s]\n",
      "Finished [100%]: Average ELBO = -18.877\n",
      "100%|███████████████████████████████████| 10000/10000 [00:16<00:00, 601.68it/s]\n"
     ]
    }
   ],
   "source": [
    "with atm:\n",
    "    atm_trace = pm.sample(10000)"
   ]
  },
  {
   "cell_type": "code",
   "execution_count": 58,
   "metadata": {
    "collapsed": false
   },
   "outputs": [],
   "source": [
    "# pm.summary(atm_trace[-5000:], varnames = ['p'])\n",
    "burned_trace = atm_trace[5000:]\n",
    "p_atm = burned_trace.p\n",
    "np.save('posterior_atm', p_atm)"
   ]
  },
  {
   "cell_type": "code",
   "execution_count": 69,
   "metadata": {
    "collapsed": false
   },
   "outputs": [
    {
     "data": {
      "text/plain": [
       "(array([   1.,    1.,    2.,    4.,    6.,    7.,    9.,    8.,   11.,\n",
       "          17.,   17.,   20.,   28.,   34.,   43.,   34.,   56.,   60.,\n",
       "          67.,   81.,   70.,  101.,   90.,  107.,   92.,  116.,  117.,\n",
       "         129.,  109.,  121.,  112.,  129.,  135.,  143.,  129.,  151.,\n",
       "         137.,  128.,  114.,  148.,  132.,  139.,  127.,  137.,  103.,\n",
       "          95.,   87.,  120.,   76.,   93.,   80.,   87.,   62.,   57.,\n",
       "          52.,   50.,   59.,   36.,   51.,   46.,   42.,   41.,   28.,\n",
       "          32.,   22.,   33.,   31.,   14.,   18.,   17.,   18.,   10.,\n",
       "          16.,   10.,   11.,    6.,    9.,    8.,    3.,    9.,    6.,\n",
       "           3.,    6.,    3.,    5.,    1.,    9.,    1.,    3.,    3.,\n",
       "           0.,    2.,    2.,    0.,    0.,    0.,    0.,    1.,    1.,    3.]),\n",
       " array([ 0.00472077,  0.00496743,  0.00521409,  0.00546076,  0.00570742,\n",
       "         0.00595408,  0.00620074,  0.00644741,  0.00669407,  0.00694073,\n",
       "         0.0071874 ,  0.00743406,  0.00768072,  0.00792739,  0.00817405,\n",
       "         0.00842071,  0.00866738,  0.00891404,  0.0091607 ,  0.00940737,\n",
       "         0.00965403,  0.00990069,  0.01014735,  0.01039402,  0.01064068,\n",
       "         0.01088734,  0.01113401,  0.01138067,  0.01162733,  0.011874  ,\n",
       "         0.01212066,  0.01236732,  0.01261399,  0.01286065,  0.01310731,\n",
       "         0.01335398,  0.01360064,  0.0138473 ,  0.01409397,  0.01434063,\n",
       "         0.01458729,  0.01483395,  0.01508062,  0.01532728,  0.01557394,\n",
       "         0.01582061,  0.01606727,  0.01631393,  0.0165606 ,  0.01680726,\n",
       "         0.01705392,  0.01730059,  0.01754725,  0.01779391,  0.01804058,\n",
       "         0.01828724,  0.0185339 ,  0.01878056,  0.01902723,  0.01927389,\n",
       "         0.01952055,  0.01976722,  0.02001388,  0.02026054,  0.02050721,\n",
       "         0.02075387,  0.02100053,  0.0212472 ,  0.02149386,  0.02174052,\n",
       "         0.02198719,  0.02223385,  0.02248051,  0.02272717,  0.02297384,\n",
       "         0.0232205 ,  0.02346716,  0.02371383,  0.02396049,  0.02420715,\n",
       "         0.02445382,  0.02470048,  0.02494714,  0.02519381,  0.02544047,\n",
       "         0.02568713,  0.0259338 ,  0.02618046,  0.02642712,  0.02667378,\n",
       "         0.02692045,  0.02716711,  0.02741377,  0.02766044,  0.0279071 ,\n",
       "         0.02815376,  0.02840043,  0.02864709,  0.02889375,  0.02914042,\n",
       "         0.02938708]),\n",
       " <a list of 100 Patch objects>)"
      ]
     },
     "execution_count": 69,
     "metadata": {},
     "output_type": "execute_result"
    },
    {
     "data": {
      "image/png": "[encoded data removed]",
      "text/plain": [
       "<matplotlib.figure.Figure at 0x1555a3c8>"
      ]
     },
     "metadata": {},
     "output_type": "display_data"
    }
   ],
   "source": [
    "plt.hist(p_atm, alpha = 0.5, bins  = 100)"
   ]
  },
  {
   "cell_type": "code",
   "execution_count": 46,
   "metadata": {
    "collapsed": false
   },
   "outputs": [
    {
     "data": {
      "image/png": "[encoded data removed]",
      "text/plain": [
       "<matplotlib.figure.Figure at 0x10d25da0>"
      ]
     },
     "metadata": {},
     "output_type": "display_data"
    }
   ],
   "source": [
    "pm.forestplot(atm_trace[-5000:], varnames = ['p']);"
   ]
  }
 ],
 "metadata": {
  "anaconda-cloud": {},
  "kernelspec": {
   "display_name": "Python [default]",
   "language": "python",
   "name": "python2"
  },
  "language_info": {
   "codemirror_mode": {
    "name": "ipython",
    "version": 2
   },
   "file_extension": ".py",
   "mimetype": "text/x-python",
   "name": "python",
   "nbconvert_exporter": "python",
   "pygments_lexer": "ipython2",
   "version": "2.7.12"
  }
 },
 "nbformat": 4,
 "nbformat_minor": 1
}
