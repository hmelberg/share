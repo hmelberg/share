{
 "cells": [
  {
   "cell_type": "code",
   "execution_count": 4,
   "metadata": {
    "collapsed": false
   },
   "outputs": [],
   "source": [
    "%matplotlib inline\n",
    "import numpy as np\n",
    "import pandas as pd\n",
    "import pymc3 as pm\n",
    "import seaborn as sns\n",
    "import matplotlib.pyplot as plt\n",
    "sns.set()"
   ]
  },
  {
   "cell_type": "code",
   "execution_count": 6,
   "metadata": {
    "collapsed": false
   },
   "outputs": [],
   "source": [
    "extracted_data = pd.read_excel('MA_data.xlsx')"
   ]
  },
  {
   "cell_type": "code",
   "execution_count": 7,
   "metadata": {
    "collapsed": false
   },
   "outputs": [
    {
     "data": {
      "text/html": [
       "<div>\n",
       "<table border=\"1\" class=\"dataframe\">\n",
       "  <thead>\n",
       "    <tr style=\"text-align: right;\">\n",
       "      <th></th>\n",
       "      <th>line</th>\n",
       "      <th>author</th>\n",
       "      <th>title</th>\n",
       "      <th>year</th>\n",
       "      <th>design</th>\n",
       "      <th>recruit</th>\n",
       "      <th>procedure</th>\n",
       "      <th>indication</th>\n",
       "      <th>population</th>\n",
       "      <th>atm</th>\n",
       "      <th>...</th>\n",
       "      <th>brip1</th>\n",
       "      <th>cdh1</th>\n",
       "      <th>chek2</th>\n",
       "      <th>nbn</th>\n",
       "      <th>palb2</th>\n",
       "      <th>pten</th>\n",
       "      <th>stk11</th>\n",
       "      <th>tp53</th>\n",
       "      <th>rad51c</th>\n",
       "      <th>rad51d</th>\n",
       "    </tr>\n",
       "  </thead>\n",
       "  <tbody>\n",
       "    <tr>\n",
       "      <th>0</th>\n",
       "      <td>1</td>\n",
       "      <td>The Cancer Genome Atlas Network</td>\n",
       "      <td>Comprehensive molecular portraits of human bre...</td>\n",
       "      <td>2012</td>\n",
       "      <td>not stated</td>\n",
       "      <td>not stated</td>\n",
       "      <td>whole exome sequencing</td>\n",
       "      <td>breast cancer</td>\n",
       "      <td>507</td>\n",
       "      <td>9</td>\n",
       "      <td>...</td>\n",
       "      <td>3</td>\n",
       "      <td>0</td>\n",
       "      <td>2</td>\n",
       "      <td>4</td>\n",
       "      <td>0</td>\n",
       "      <td>1</td>\n",
       "      <td>0</td>\n",
       "      <td>2</td>\n",
       "      <td>1</td>\n",
       "      <td>0</td>\n",
       "    </tr>\n",
       "    <tr>\n",
       "      <th>1</th>\n",
       "      <td>2</td>\n",
       "      <td>Tung et al</td>\n",
       "      <td>Frequency of Germline Mutations in 25 Cancer S...</td>\n",
       "      <td>2016</td>\n",
       "      <td>Prospective</td>\n",
       "      <td>2010-2012</td>\n",
       "      <td>NGS + Sanger for confirmation</td>\n",
       "      <td>breast cancer</td>\n",
       "      <td>488</td>\n",
       "      <td>5</td>\n",
       "      <td>...</td>\n",
       "      <td>4</td>\n",
       "      <td>0</td>\n",
       "      <td>10</td>\n",
       "      <td>1</td>\n",
       "      <td>1</td>\n",
       "      <td>1</td>\n",
       "      <td>0</td>\n",
       "      <td>0</td>\n",
       "      <td>1</td>\n",
       "      <td>1</td>\n",
       "    </tr>\n",
       "  </tbody>\n",
       "</table>\n",
       "<p>2 rows × 23 columns</p>\n",
       "</div>"
      ],
      "text/plain": [
       "   line                           author  \\\n",
       "0     1  The Cancer Genome Atlas Network   \n",
       "1     2                       Tung et al   \n",
       "\n",
       "                                               title  year       design  \\\n",
       "0  Comprehensive molecular portraits of human bre...  2012   not stated   \n",
       "1  Frequency of Germline Mutations in 25 Cancer S...  2016  Prospective   \n",
       "\n",
       "      recruit                      procedure     indication  population  atm  \\\n",
       "0  not stated         whole exome sequencing  breast cancer         507    9   \n",
       "1   2010-2012  NGS + Sanger for confirmation  breast cancer         488    5   \n",
       "\n",
       "    ...    brip1  cdh1  chek2  nbn  palb2  pten  stk11  tp53  rad51c  rad51d  \n",
       "0   ...        3     0      2    4      0     1      0     2       1       0  \n",
       "1   ...        4     0     10    1      1     1      0     0       1       1  \n",
       "\n",
       "[2 rows x 23 columns]"
      ]
     },
     "execution_count": 7,
     "metadata": {},
     "output_type": "execute_result"
    }
   ],
   "source": [
    "extracted_data"
   ]
  },
  {
   "cell_type": "code",
   "execution_count": 9,
   "metadata": {
    "collapsed": false
   },
   "outputs": [],
   "source": [
    "mutations_atm = extracted_data.atm.values.astype(int)\n",
    "mutations_bard1 = extracted_data.bard1.values.astype(int)\n",
    "mutations_brca1 = extracted_data.brca1.values.astype(int)\n",
    "mutations_brca2 = extracted_data.brca2.values.astype(int)\n",
    "mutations_brip1 = extracted_data.brip1.values.astype(int)\n",
    "mutations_cdh1 = extracted_data.cdh1.values.astype(int)\n",
    "mutations_chek2 = extracted_data.chek2.values.astype(int)\n",
    "mutations_nbn = extracted_data.nbn.values.astype(int)\n",
    "mutations_palb2 = extracted_data.palb2.values.astype(int)\n",
    "mutations_pten = extracted_data.pten.values.astype(int)\n",
    "mutations_stk11 = extracted_data.stk11.values.astype(int)\n",
    "mutations_tp53 = extracted_data.tp53.values.astype(int)\n",
    "mutations_rad51c = extracted_data.rad51c.values.astype(int)\n",
    "mutations_rad51d = extracted_data.rad51d.values.astype(int)"
   ]
  },
  {
   "cell_type": "code",
   "execution_count": 10,
   "metadata": {
    "collapsed": true
   },
   "outputs": [],
   "source": [
    "import theano as tt\n",
    "invlogit = pm.math.invlogit\n",
    "\n",
    "def RE_model(mutation_count):\n",
    "    with pm.Model() as model:\n",
    "        i = extracted_data.shape[0]\n",
    "        n = extracted_data.population.astype(int)\n",
    "        mutation_count = mutation_count\n",
    "        \n",
    "        # Study random effect\n",
    "        mu_gamma = pm.Normal('mu_gamma', 0, sd = 100000)\n",
    "        sigma_gamma = pm.Uniform('sigma_gamma', 0, 10)\n",
    "        gamma = pm.Normal('gamma', mu = mu_gamma, sd = sigma_gamma)\n",
    "        \n",
    "        # Study-specific probabilities\n",
    "        p_i = pm.Deterministic('p', invlogit(gamma))\n",
    "        \n",
    "        obs = pm.Binomial('obs', p = p_i, observed = mutation_Count)\n",
    "        \n",
    "    return model"
   ]
  },
  {
   "cell_type": "code",
   "execution_count": null,
   "metadata": {
    "collapsed": true
   },
   "outputs": [],
   "source": []
  }
 ],
 "metadata": {
  "anaconda-cloud": {},
  "kernelspec": {
   "display_name": "Python [default]",
   "language": "python",
   "name": "python2"
  },
  "language_info": {
   "codemirror_mode": {
    "name": "ipython",
    "version": 2
   },
   "file_extension": ".py",
   "mimetype": "text/x-python",
   "name": "python",
   "nbconvert_exporter": "python",
   "pygments_lexer": "ipython2",
   "version": "2.7.12"
  }
 },
 "nbformat": 4,
 "nbformat_minor": 1
}
