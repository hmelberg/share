{
 "cells": [
  {
   "cell_type": "code",
   "execution_count": 121,
   "metadata": {
    "collapsed": false
   },
   "outputs": [],
   "source": [
    "import pandas as pd\n",
    "import numpy as np\n",
    "import matplotlib.pyplot as plt\n",
    "plt.style.use('seaborn-notebook')\n",
    "%matplotlib inline"
   ]
  },
  {
   "cell_type": "code",
   "execution_count": 4,
   "metadata": {
    "collapsed": false
   },
   "outputs": [],
   "source": [
    "atm = np.load('posterior_atm.npy')"
   ]
  },
  {
   "cell_type": "code",
   "execution_count": 6,
   "metadata": {
    "collapsed": false
   },
   "outputs": [],
   "source": [
    "atm_mu = atm.mean()"
   ]
  },
  {
   "cell_type": "code",
   "execution_count": 7,
   "metadata": {
    "collapsed": true
   },
   "outputs": [],
   "source": [
    "bard1 = np.load('posterior_bard1.npy')"
   ]
  },
  {
   "cell_type": "code",
   "execution_count": 8,
   "metadata": {
    "collapsed": true
   },
   "outputs": [],
   "source": [
    "bard1_mu = bard1.mean()"
   ]
  },
  {
   "cell_type": "code",
   "execution_count": 9,
   "metadata": {
    "collapsed": true
   },
   "outputs": [],
   "source": [
    "brca1 = np.load('posterior_brca1.npy')"
   ]
  },
  {
   "cell_type": "code",
   "execution_count": 10,
   "metadata": {
    "collapsed": true
   },
   "outputs": [],
   "source": [
    "brca1_mu = brca1.mean()"
   ]
  },
  {
   "cell_type": "code",
   "execution_count": 12,
   "metadata": {
    "collapsed": false
   },
   "outputs": [],
   "source": [
    "brca2 = np.load('posterior_brca2.npy')"
   ]
  },
  {
   "cell_type": "code",
   "execution_count": 17,
   "metadata": {
    "collapsed": true
   },
   "outputs": [],
   "source": [
    "brca2_mu = brca2.mean()"
   ]
  },
  {
   "cell_type": "code",
   "execution_count": 19,
   "metadata": {
    "collapsed": false
   },
   "outputs": [],
   "source": [
    "brip1 = np.load('posterior_brip1.npy')"
   ]
  },
  {
   "cell_type": "code",
   "execution_count": 20,
   "metadata": {
    "collapsed": true
   },
   "outputs": [],
   "source": [
    "brip1_mu = brip1.mean()"
   ]
  },
  {
   "cell_type": "code",
   "execution_count": 21,
   "metadata": {
    "collapsed": true
   },
   "outputs": [],
   "source": [
    "cdh1 = np.load('posterior_cdh1.npy')"
   ]
  },
  {
   "cell_type": "code",
   "execution_count": 26,
   "metadata": {
    "collapsed": false
   },
   "outputs": [],
   "source": [
    "cdh1_mu = cdh1.mean()"
   ]
  },
  {
   "cell_type": "code",
   "execution_count": 27,
   "metadata": {
    "collapsed": true
   },
   "outputs": [],
   "source": [
    "chek2 = np.load('posterior_chek2.npy')"
   ]
  },
  {
   "cell_type": "code",
   "execution_count": 28,
   "metadata": {
    "collapsed": true
   },
   "outputs": [],
   "source": [
    "chek2_mu = chek2.mean()"
   ]
  },
  {
   "cell_type": "code",
   "execution_count": 29,
   "metadata": {
    "collapsed": true
   },
   "outputs": [],
   "source": [
    "nbn = np.load('posterior_nbn.npy')"
   ]
  },
  {
   "cell_type": "code",
   "execution_count": 30,
   "metadata": {
    "collapsed": true
   },
   "outputs": [],
   "source": [
    "nbn_mu = nbn.mean()"
   ]
  },
  {
   "cell_type": "code",
   "execution_count": 32,
   "metadata": {
    "collapsed": false
   },
   "outputs": [],
   "source": [
    "palb2 = np.load('posterior_palb2.npy')"
   ]
  },
  {
   "cell_type": "code",
   "execution_count": 33,
   "metadata": {
    "collapsed": true
   },
   "outputs": [],
   "source": [
    "palb2_mu = palb2.mean()"
   ]
  },
  {
   "cell_type": "code",
   "execution_count": 34,
   "metadata": {
    "collapsed": true
   },
   "outputs": [],
   "source": [
    "pten = np.load('posterior_pten.npy')"
   ]
  },
  {
   "cell_type": "code",
   "execution_count": 35,
   "metadata": {
    "collapsed": true
   },
   "outputs": [],
   "source": [
    "pten_mu = pten.mean()"
   ]
  },
  {
   "cell_type": "code",
   "execution_count": 36,
   "metadata": {
    "collapsed": true
   },
   "outputs": [],
   "source": [
    "rad51c = np.load('posterior_rad51c.npy')"
   ]
  },
  {
   "cell_type": "code",
   "execution_count": 37,
   "metadata": {
    "collapsed": true
   },
   "outputs": [],
   "source": [
    "rad51c_mu = rad51c.mean()"
   ]
  },
  {
   "cell_type": "code",
   "execution_count": 38,
   "metadata": {
    "collapsed": true
   },
   "outputs": [],
   "source": [
    "rad51d = np.load('posterior_rad51d.npy')"
   ]
  },
  {
   "cell_type": "code",
   "execution_count": 39,
   "metadata": {
    "collapsed": true
   },
   "outputs": [],
   "source": [
    "rad51d_mu = rad51d.mean()"
   ]
  },
  {
   "cell_type": "code",
   "execution_count": 40,
   "metadata": {
    "collapsed": true
   },
   "outputs": [],
   "source": [
    "stk11 = np.load('posterior_stk11.npy')"
   ]
  },
  {
   "cell_type": "code",
   "execution_count": 41,
   "metadata": {
    "collapsed": true
   },
   "outputs": [],
   "source": [
    "stk11_mu = stk11.mean()"
   ]
  },
  {
   "cell_type": "code",
   "execution_count": 42,
   "metadata": {
    "collapsed": true
   },
   "outputs": [],
   "source": [
    "tp53 = np.load('posterior_tp53.npy')"
   ]
  },
  {
   "cell_type": "code",
   "execution_count": 43,
   "metadata": {
    "collapsed": true
   },
   "outputs": [],
   "source": [
    "tp53_mu = tp53.mean()"
   ]
  },
  {
   "cell_type": "code",
   "execution_count": 60,
   "metadata": {
    "collapsed": false
   },
   "outputs": [],
   "source": [
    "data = {'Gene':['atm', 'bard1', 'brca1', 'brca2', 'brip1', 'cdh1', 'chek2', 'nbn', ' palb2',\n",
    "                                        'pten', 'rad51c', 'rad51d', 'stk11', 'tp53'],\n",
    "                                 'Posterior_mean': [atm_mu, bard1_mu, brca1_mu, brca2_mu, brip1_mu, cdh1_mu, chek2_mu,\n",
    "                                                    nbn_mu, palb2_mu, pten_mu, rad51c_mu, rad51d_mu, stk11_mu, tp53_mu]}"
   ]
  },
  {
   "cell_type": "code",
   "execution_count": 98,
   "metadata": {
    "collapsed": false
   },
   "outputs": [],
   "source": [
    "mutations = pd.DataFrame(data = data)"
   ]
  },
  {
   "cell_type": "code",
   "execution_count": 99,
   "metadata": {
    "collapsed": false
   },
   "outputs": [
    {
     "data": {
      "text/html": [
       "<div>\n",
       "<table border=\"1\" class=\"dataframe\">\n",
       "  <thead>\n",
       "    <tr style=\"text-align: right;\">\n",
       "      <th></th>\n",
       "      <th>Posterior_mean</th>\n",
       "    </tr>\n",
       "    <tr>\n",
       "      <th>Gene</th>\n",
       "      <th></th>\n",
       "    </tr>\n",
       "  </thead>\n",
       "  <tbody>\n",
       "    <tr>\n",
       "      <th>atm</th>\n",
       "      <td>1.414034e-02</td>\n",
       "    </tr>\n",
       "    <tr>\n",
       "      <th>bard1</th>\n",
       "      <td>2.240758e-07</td>\n",
       "    </tr>\n",
       "    <tr>\n",
       "      <th>brca1</th>\n",
       "      <td>3.097470e-02</td>\n",
       "    </tr>\n",
       "    <tr>\n",
       "      <th>brca2</th>\n",
       "      <td>2.608594e-02</td>\n",
       "    </tr>\n",
       "    <tr>\n",
       "      <th>brip1</th>\n",
       "      <td>7.081166e-03</td>\n",
       "    </tr>\n",
       "    <tr>\n",
       "      <th>cdh1</th>\n",
       "      <td>2.220446e-16</td>\n",
       "    </tr>\n",
       "    <tr>\n",
       "      <th>chek2</th>\n",
       "      <td>1.200446e-02</td>\n",
       "    </tr>\n",
       "    <tr>\n",
       "      <th>nbn</th>\n",
       "      <td>4.971975e-03</td>\n",
       "    </tr>\n",
       "    <tr>\n",
       "      <th>palb2</th>\n",
       "      <td>1.012835e-03</td>\n",
       "    </tr>\n",
       "    <tr>\n",
       "      <th>pten</th>\n",
       "      <td>1.992854e-03</td>\n",
       "    </tr>\n",
       "    <tr>\n",
       "      <th>rad51c</th>\n",
       "      <td>2.016875e-03</td>\n",
       "    </tr>\n",
       "    <tr>\n",
       "      <th>rad51d</th>\n",
       "      <td>9.844014e-04</td>\n",
       "    </tr>\n",
       "    <tr>\n",
       "      <th>stk11</th>\n",
       "      <td>6.094666e-09</td>\n",
       "    </tr>\n",
       "    <tr>\n",
       "      <th>tp53</th>\n",
       "      <td>1.977150e-03</td>\n",
       "    </tr>\n",
       "  </tbody>\n",
       "</table>\n",
       "</div>"
      ],
      "text/plain": [
       "        Posterior_mean\n",
       "Gene                  \n",
       "atm       1.414034e-02\n",
       "bard1     2.240758e-07\n",
       "brca1     3.097470e-02\n",
       "brca2     2.608594e-02\n",
       "brip1     7.081166e-03\n",
       "cdh1      2.220446e-16\n",
       "chek2     1.200446e-02\n",
       "nbn       4.971975e-03\n",
       " palb2    1.012835e-03\n",
       "pten      1.992854e-03\n",
       "rad51c    2.016875e-03\n",
       "rad51d    9.844014e-04\n",
       "stk11     6.094666e-09\n",
       "tp53      1.977150e-03"
      ]
     },
     "execution_count": 99,
     "metadata": {},
     "output_type": "execute_result"
    }
   ],
   "source": [
    "mutations.set_index('Gene')"
   ]
  },
  {
   "cell_type": "code",
   "execution_count": 111,
   "metadata": {
    "collapsed": false
   },
   "outputs": [
    {
     "data": {
      "text/plain": [
       "['atm',\n",
       " 'bard1',\n",
       " 'brca1',\n",
       " 'brca2',\n",
       " 'brip1',\n",
       " 'cdh1',\n",
       " 'chek2',\n",
       " 'nbn',\n",
       " ' palb2',\n",
       " 'pten',\n",
       " 'rad51c',\n",
       " 'rad51d',\n",
       " 'stk11',\n",
       " 'tp53']"
      ]
     },
     "execution_count": 111,
     "metadata": {},
     "output_type": "execute_result"
    }
   ],
   "source": [
    "labs = ['atm', 'bard1', 'brca1', 'brca2', 'brip1', 'cdh1', 'chek2', 'nbn', ' palb2',\n",
    "                                        'pten', 'rad51c', 'rad51d', 'stk11', 'tp53']\n",
    "labs"
   ]
  },
  {
   "cell_type": "code",
   "execution_count": 122,
   "metadata": {
    "collapsed": false
   },
   "outputs": [
    {
     "data": {
      "text/plain": [
       "<matplotlib.text.Text at 0xd83be10>"
      ]
     },
     "execution_count": 122,
     "metadata": {},
     "output_type": "execute_result"
    },
    {
     "data": {
      "image/png": "[encoded data removed]",
      "text/plain": [
       "<matplotlib.figure.Figure at 0xd7ce7f0>"
      ]
     },
     "metadata": {},
     "output_type": "display_data"
    }
   ],
   "source": [
    "plot = mutations.plot(kind = 'bar',  grid= True, use_index= True)\n",
    "plot.set_xticklabels(labels = labs)\n",
    "plot.set_ylabel('Estimated proportion')\n",
    "plot.set_xlabel('Gene with mutation')\n",
    "plot.set_title('Hereditary mutation prevalence among patients')\n"
   ]
  },
  {
   "cell_type": "code",
   "execution_count": null,
   "metadata": {
    "collapsed": true
   },
   "outputs": [],
   "source": []
  }
 ],
 "metadata": {
  "anaconda-cloud": {},
  "kernelspec": {
   "display_name": "Python [default]",
   "language": "python",
   "name": "python3"
  },
  "language_info": {
   "codemirror_mode": {
    "name": "ipython",
    "version": 3
   },
   "file_extension": ".py",
   "mimetype": "text/x-python",
   "name": "python",
   "nbconvert_exporter": "python",
   "pygments_lexer": "ipython3",
   "version": "3.5.2"
  }
 },
 "nbformat": 4,
 "nbformat_minor": 1
}
